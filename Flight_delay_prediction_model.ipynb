{
  "nbformat": 4,
  "nbformat_minor": 0,
  "metadata": {
    "colab": {
      "provenance": []
    },
    "kernelspec": {
      "name": "python3",
      "display_name": "Python 3"
    },
    "language_info": {
      "name": "python"
    }
  },
  "cells": [
    {
      "cell_type": "markdown",
      "source": [
        "**Task 1 - Flight Delay Prediction Model**\n",
        "\n",
        "Flight delay prediction model is a trained machine learning model which predict that the flight you what to know will be delayed or not based on past data of flights . In this script we wil first process our data in accordance to our model and to get insights on how flights were delayed and various other factors and then train various machine learning classification model such as logistic regression, tree classifier, random forest classifier to gain best results.\n",
        "\n",
        "Dataset used is [Airlines_delay](https://www.kaggle.com/datasets/ulrikthygepedersen/airlines-delay)\n",
        "\n"
      ],
      "metadata": {
        "id": "KZvQD6MoQ8K_"
      }
    },
    {
      "cell_type": "markdown",
      "source": [
        "Some important libraries"
      ],
      "metadata": {
        "id": "iWiGpGcdXY_m"
      }
    },
    {
      "cell_type": "code",
      "source": [
        "import numpy as np\n",
        "import pandas as pd\n",
        "import matplotlib.pyplot as plt\n",
        "import seaborn as sns"
      ],
      "metadata": {
        "id": "gnHlczApXmmB"
      },
      "execution_count": null,
      "outputs": []
    },
    {
      "cell_type": "code",
      "source": [
        "# importing dataset\n",
        "flight_data = pd.read_csv('./airlines_delay.csv')\n",
        "flight_data.shape"
      ],
      "metadata": {
        "colab": {
          "base_uri": "https://localhost:8080/"
        },
        "id": "2RL5fhdpX-K_",
        "outputId": "b321269d-6b3c-4447-eab2-9df491179810"
      },
      "execution_count": null,
      "outputs": [
        {
          "output_type": "execute_result",
          "data": {
            "text/plain": [
              "(539382, 8)"
            ]
          },
          "metadata": {},
          "execution_count": 2
        }
      ]
    },
    {
      "cell_type": "markdown",
      "source": [
        "Exploratory Data Analysis-(EDA)"
      ],
      "metadata": {
        "id": "gEnj1ml7YdTk"
      }
    },
    {
      "cell_type": "code",
      "source": [
        "flight_data.head()"
      ],
      "metadata": {
        "colab": {
          "base_uri": "https://localhost:8080/",
          "height": 206
        },
        "id": "9_eEDskaYkUN",
        "outputId": "4764a692-b49c-4024-d553-ca3316f81f7e"
      },
      "execution_count": null,
      "outputs": [
        {
          "output_type": "execute_result",
          "data": {
            "text/plain": [
              "   Flight    Time  Length Airline AirportFrom AirportTo  DayOfWeek  Class\n",
              "0  2313.0  1296.0   141.0      DL         ATL       HOU          1      0\n",
              "1  6948.0   360.0   146.0      OO         COS       ORD          4      0\n",
              "2  1247.0  1170.0   143.0      B6         BOS       CLT          3      0\n",
              "3    31.0  1410.0   344.0      US         OGG       PHX          6      0\n",
              "4   563.0   692.0    98.0      FL         BMI       ATL          4      0"
            ],
            "text/html": [
              "\n",
              "  <div id=\"df-e640b99a-c44f-409c-a528-8768d39b07cf\">\n",
              "    <div class=\"colab-df-container\">\n",
              "      <div>\n",
              "<style scoped>\n",
              "    .dataframe tbody tr th:only-of-type {\n",
              "        vertical-align: middle;\n",
              "    }\n",
              "\n",
              "    .dataframe tbody tr th {\n",
              "        vertical-align: top;\n",
              "    }\n",
              "\n",
              "    .dataframe thead th {\n",
              "        text-align: right;\n",
              "    }\n",
              "</style>\n",
              "<table border=\"1\" class=\"dataframe\">\n",
              "  <thead>\n",
              "    <tr style=\"text-align: right;\">\n",
              "      <th></th>\n",
              "      <th>Flight</th>\n",
              "      <th>Time</th>\n",
              "      <th>Length</th>\n",
              "      <th>Airline</th>\n",
              "      <th>AirportFrom</th>\n",
              "      <th>AirportTo</th>\n",
              "      <th>DayOfWeek</th>\n",
              "      <th>Class</th>\n",
              "    </tr>\n",
              "  </thead>\n",
              "  <tbody>\n",
              "    <tr>\n",
              "      <th>0</th>\n",
              "      <td>2313.0</td>\n",
              "      <td>1296.0</td>\n",
              "      <td>141.0</td>\n",
              "      <td>DL</td>\n",
              "      <td>ATL</td>\n",
              "      <td>HOU</td>\n",
              "      <td>1</td>\n",
              "      <td>0</td>\n",
              "    </tr>\n",
              "    <tr>\n",
              "      <th>1</th>\n",
              "      <td>6948.0</td>\n",
              "      <td>360.0</td>\n",
              "      <td>146.0</td>\n",
              "      <td>OO</td>\n",
              "      <td>COS</td>\n",
              "      <td>ORD</td>\n",
              "      <td>4</td>\n",
              "      <td>0</td>\n",
              "    </tr>\n",
              "    <tr>\n",
              "      <th>2</th>\n",
              "      <td>1247.0</td>\n",
              "      <td>1170.0</td>\n",
              "      <td>143.0</td>\n",
              "      <td>B6</td>\n",
              "      <td>BOS</td>\n",
              "      <td>CLT</td>\n",
              "      <td>3</td>\n",
              "      <td>0</td>\n",
              "    </tr>\n",
              "    <tr>\n",
              "      <th>3</th>\n",
              "      <td>31.0</td>\n",
              "      <td>1410.0</td>\n",
              "      <td>344.0</td>\n",
              "      <td>US</td>\n",
              "      <td>OGG</td>\n",
              "      <td>PHX</td>\n",
              "      <td>6</td>\n",
              "      <td>0</td>\n",
              "    </tr>\n",
              "    <tr>\n",
              "      <th>4</th>\n",
              "      <td>563.0</td>\n",
              "      <td>692.0</td>\n",
              "      <td>98.0</td>\n",
              "      <td>FL</td>\n",
              "      <td>BMI</td>\n",
              "      <td>ATL</td>\n",
              "      <td>4</td>\n",
              "      <td>0</td>\n",
              "    </tr>\n",
              "  </tbody>\n",
              "</table>\n",
              "</div>\n",
              "      <button class=\"colab-df-convert\" onclick=\"convertToInteractive('df-e640b99a-c44f-409c-a528-8768d39b07cf')\"\n",
              "              title=\"Convert this dataframe to an interactive table.\"\n",
              "              style=\"display:none;\">\n",
              "        \n",
              "  <svg xmlns=\"http://www.w3.org/2000/svg\" height=\"24px\"viewBox=\"0 0 24 24\"\n",
              "       width=\"24px\">\n",
              "    <path d=\"M0 0h24v24H0V0z\" fill=\"none\"/>\n",
              "    <path d=\"M18.56 5.44l.94 2.06.94-2.06 2.06-.94-2.06-.94-.94-2.06-.94 2.06-2.06.94zm-11 1L8.5 8.5l.94-2.06 2.06-.94-2.06-.94L8.5 2.5l-.94 2.06-2.06.94zm10 10l.94 2.06.94-2.06 2.06-.94-2.06-.94-.94-2.06-.94 2.06-2.06.94z\"/><path d=\"M17.41 7.96l-1.37-1.37c-.4-.4-.92-.59-1.43-.59-.52 0-1.04.2-1.43.59L10.3 9.45l-7.72 7.72c-.78.78-.78 2.05 0 2.83L4 21.41c.39.39.9.59 1.41.59.51 0 1.02-.2 1.41-.59l7.78-7.78 2.81-2.81c.8-.78.8-2.07 0-2.86zM5.41 20L4 18.59l7.72-7.72 1.47 1.35L5.41 20z\"/>\n",
              "  </svg>\n",
              "      </button>\n",
              "      \n",
              "  <style>\n",
              "    .colab-df-container {\n",
              "      display:flex;\n",
              "      flex-wrap:wrap;\n",
              "      gap: 12px;\n",
              "    }\n",
              "\n",
              "    .colab-df-convert {\n",
              "      background-color: #E8F0FE;\n",
              "      border: none;\n",
              "      border-radius: 50%;\n",
              "      cursor: pointer;\n",
              "      display: none;\n",
              "      fill: #1967D2;\n",
              "      height: 32px;\n",
              "      padding: 0 0 0 0;\n",
              "      width: 32px;\n",
              "    }\n",
              "\n",
              "    .colab-df-convert:hover {\n",
              "      background-color: #E2EBFA;\n",
              "      box-shadow: 0px 1px 2px rgba(60, 64, 67, 0.3), 0px 1px 3px 1px rgba(60, 64, 67, 0.15);\n",
              "      fill: #174EA6;\n",
              "    }\n",
              "\n",
              "    [theme=dark] .colab-df-convert {\n",
              "      background-color: #3B4455;\n",
              "      fill: #D2E3FC;\n",
              "    }\n",
              "\n",
              "    [theme=dark] .colab-df-convert:hover {\n",
              "      background-color: #434B5C;\n",
              "      box-shadow: 0px 1px 3px 1px rgba(0, 0, 0, 0.15);\n",
              "      filter: drop-shadow(0px 1px 2px rgba(0, 0, 0, 0.3));\n",
              "      fill: #FFFFFF;\n",
              "    }\n",
              "  </style>\n",
              "\n",
              "      <script>\n",
              "        const buttonEl =\n",
              "          document.querySelector('#df-e640b99a-c44f-409c-a528-8768d39b07cf button.colab-df-convert');\n",
              "        buttonEl.style.display =\n",
              "          google.colab.kernel.accessAllowed ? 'block' : 'none';\n",
              "\n",
              "        async function convertToInteractive(key) {\n",
              "          const element = document.querySelector('#df-e640b99a-c44f-409c-a528-8768d39b07cf');\n",
              "          const dataTable =\n",
              "            await google.colab.kernel.invokeFunction('convertToInteractive',\n",
              "                                                     [key], {});\n",
              "          if (!dataTable) return;\n",
              "\n",
              "          const docLinkHtml = 'Like what you see? Visit the ' +\n",
              "            '<a target=\"_blank\" href=https://colab.research.google.com/notebooks/data_table.ipynb>data table notebook</a>'\n",
              "            + ' to learn more about interactive tables.';\n",
              "          element.innerHTML = '';\n",
              "          dataTable['output_type'] = 'display_data';\n",
              "          await google.colab.output.renderOutput(dataTable, element);\n",
              "          const docLink = document.createElement('div');\n",
              "          docLink.innerHTML = docLinkHtml;\n",
              "          element.appendChild(docLink);\n",
              "        }\n",
              "      </script>\n",
              "    </div>\n",
              "  </div>\n",
              "  "
            ]
          },
          "metadata": {},
          "execution_count": 3
        }
      ]
    },
    {
      "cell_type": "code",
      "source": [
        "#checking for any null values in our data\n",
        "flight_data.isnull().sum()"
      ],
      "metadata": {
        "colab": {
          "base_uri": "https://localhost:8080/"
        },
        "id": "ffIdw7VyYocN",
        "outputId": "7291761b-66fe-4618-8030-dfe7e22f297f"
      },
      "execution_count": null,
      "outputs": [
        {
          "output_type": "execute_result",
          "data": {
            "text/plain": [
              "Flight         0\n",
              "Time           0\n",
              "Length         0\n",
              "Airline        0\n",
              "AirportFrom    0\n",
              "AirportTo      0\n",
              "DayOfWeek      0\n",
              "Class          0\n",
              "dtype: int64"
            ]
          },
          "metadata": {},
          "execution_count": 4
        }
      ]
    },
    {
      "cell_type": "code",
      "source": [
        "# Gaining various information for our data"
      ],
      "metadata": {
        "id": "NTg7GsRKZJec"
      },
      "execution_count": null,
      "outputs": []
    },
    {
      "cell_type": "code",
      "source": [
        "flight_data.columns"
      ],
      "metadata": {
        "colab": {
          "base_uri": "https://localhost:8080/"
        },
        "id": "tgKKanKBZk8b",
        "outputId": "1b736852-24e9-4c91-c9a7-0623658b1580"
      },
      "execution_count": null,
      "outputs": [
        {
          "output_type": "execute_result",
          "data": {
            "text/plain": [
              "Index(['Flight', 'Time', 'Length', 'Airline', 'AirportFrom', 'AirportTo',\n",
              "       'DayOfWeek', 'Class'],\n",
              "      dtype='object')"
            ]
          },
          "metadata": {},
          "execution_count": 6
        }
      ]
    },
    {
      "cell_type": "code",
      "source": [
        "flight_data.info()"
      ],
      "metadata": {
        "colab": {
          "base_uri": "https://localhost:8080/"
        },
        "id": "XggDjHpwZsr7",
        "outputId": "42269bc1-3b8b-42c9-a1d2-49c052c2d156"
      },
      "execution_count": null,
      "outputs": [
        {
          "output_type": "stream",
          "name": "stdout",
          "text": [
            "<class 'pandas.core.frame.DataFrame'>\n",
            "RangeIndex: 539382 entries, 0 to 539381\n",
            "Data columns (total 8 columns):\n",
            " #   Column       Non-Null Count   Dtype  \n",
            "---  ------       --------------   -----  \n",
            " 0   Flight       539382 non-null  float64\n",
            " 1   Time         539382 non-null  float64\n",
            " 2   Length       539382 non-null  float64\n",
            " 3   Airline      539382 non-null  object \n",
            " 4   AirportFrom  539382 non-null  object \n",
            " 5   AirportTo    539382 non-null  object \n",
            " 6   DayOfWeek    539382 non-null  int64  \n",
            " 7   Class        539382 non-null  int64  \n",
            "dtypes: float64(3), int64(2), object(3)\n",
            "memory usage: 32.9+ MB\n"
          ]
        }
      ]
    },
    {
      "cell_type": "code",
      "source": [
        "flight_data.describe()"
      ],
      "metadata": {
        "colab": {
          "base_uri": "https://localhost:8080/",
          "height": 300
        },
        "id": "C3LMqU8XZwUn",
        "outputId": "c0a2bdf1-3975-4a92-95e1-be1dcf2621c5"
      },
      "execution_count": null,
      "outputs": [
        {
          "output_type": "execute_result",
          "data": {
            "text/plain": [
              "              Flight           Time         Length      DayOfWeek  \\\n",
              "count  539382.000000  539382.000000  539382.000000  539382.000000   \n",
              "mean     2427.927988     802.728161     132.202104       3.929666   \n",
              "std      2067.431700     278.045546      70.117045       1.914666   \n",
              "min         1.000000      10.000000       0.000000       1.000000   \n",
              "25%       712.000000     565.000000      81.000000       2.000000   \n",
              "50%      1809.000000     795.000000     115.000000       4.000000   \n",
              "75%      3745.000000    1035.000000     162.000000       5.000000   \n",
              "max      7814.000000    1439.000000     655.000000       7.000000   \n",
              "\n",
              "               Class  \n",
              "count  539382.000000  \n",
              "mean        0.445443  \n",
              "std         0.497015  \n",
              "min         0.000000  \n",
              "25%         0.000000  \n",
              "50%         0.000000  \n",
              "75%         1.000000  \n",
              "max         1.000000  "
            ],
            "text/html": [
              "\n",
              "  <div id=\"df-70b54a79-42e8-41e4-b5f1-68b593b62041\">\n",
              "    <div class=\"colab-df-container\">\n",
              "      <div>\n",
              "<style scoped>\n",
              "    .dataframe tbody tr th:only-of-type {\n",
              "        vertical-align: middle;\n",
              "    }\n",
              "\n",
              "    .dataframe tbody tr th {\n",
              "        vertical-align: top;\n",
              "    }\n",
              "\n",
              "    .dataframe thead th {\n",
              "        text-align: right;\n",
              "    }\n",
              "</style>\n",
              "<table border=\"1\" class=\"dataframe\">\n",
              "  <thead>\n",
              "    <tr style=\"text-align: right;\">\n",
              "      <th></th>\n",
              "      <th>Flight</th>\n",
              "      <th>Time</th>\n",
              "      <th>Length</th>\n",
              "      <th>DayOfWeek</th>\n",
              "      <th>Class</th>\n",
              "    </tr>\n",
              "  </thead>\n",
              "  <tbody>\n",
              "    <tr>\n",
              "      <th>count</th>\n",
              "      <td>539382.000000</td>\n",
              "      <td>539382.000000</td>\n",
              "      <td>539382.000000</td>\n",
              "      <td>539382.000000</td>\n",
              "      <td>539382.000000</td>\n",
              "    </tr>\n",
              "    <tr>\n",
              "      <th>mean</th>\n",
              "      <td>2427.927988</td>\n",
              "      <td>802.728161</td>\n",
              "      <td>132.202104</td>\n",
              "      <td>3.929666</td>\n",
              "      <td>0.445443</td>\n",
              "    </tr>\n",
              "    <tr>\n",
              "      <th>std</th>\n",
              "      <td>2067.431700</td>\n",
              "      <td>278.045546</td>\n",
              "      <td>70.117045</td>\n",
              "      <td>1.914666</td>\n",
              "      <td>0.497015</td>\n",
              "    </tr>\n",
              "    <tr>\n",
              "      <th>min</th>\n",
              "      <td>1.000000</td>\n",
              "      <td>10.000000</td>\n",
              "      <td>0.000000</td>\n",
              "      <td>1.000000</td>\n",
              "      <td>0.000000</td>\n",
              "    </tr>\n",
              "    <tr>\n",
              "      <th>25%</th>\n",
              "      <td>712.000000</td>\n",
              "      <td>565.000000</td>\n",
              "      <td>81.000000</td>\n",
              "      <td>2.000000</td>\n",
              "      <td>0.000000</td>\n",
              "    </tr>\n",
              "    <tr>\n",
              "      <th>50%</th>\n",
              "      <td>1809.000000</td>\n",
              "      <td>795.000000</td>\n",
              "      <td>115.000000</td>\n",
              "      <td>4.000000</td>\n",
              "      <td>0.000000</td>\n",
              "    </tr>\n",
              "    <tr>\n",
              "      <th>75%</th>\n",
              "      <td>3745.000000</td>\n",
              "      <td>1035.000000</td>\n",
              "      <td>162.000000</td>\n",
              "      <td>5.000000</td>\n",
              "      <td>1.000000</td>\n",
              "    </tr>\n",
              "    <tr>\n",
              "      <th>max</th>\n",
              "      <td>7814.000000</td>\n",
              "      <td>1439.000000</td>\n",
              "      <td>655.000000</td>\n",
              "      <td>7.000000</td>\n",
              "      <td>1.000000</td>\n",
              "    </tr>\n",
              "  </tbody>\n",
              "</table>\n",
              "</div>\n",
              "      <button class=\"colab-df-convert\" onclick=\"convertToInteractive('df-70b54a79-42e8-41e4-b5f1-68b593b62041')\"\n",
              "              title=\"Convert this dataframe to an interactive table.\"\n",
              "              style=\"display:none;\">\n",
              "        \n",
              "  <svg xmlns=\"http://www.w3.org/2000/svg\" height=\"24px\"viewBox=\"0 0 24 24\"\n",
              "       width=\"24px\">\n",
              "    <path d=\"M0 0h24v24H0V0z\" fill=\"none\"/>\n",
              "    <path d=\"M18.56 5.44l.94 2.06.94-2.06 2.06-.94-2.06-.94-.94-2.06-.94 2.06-2.06.94zm-11 1L8.5 8.5l.94-2.06 2.06-.94-2.06-.94L8.5 2.5l-.94 2.06-2.06.94zm10 10l.94 2.06.94-2.06 2.06-.94-2.06-.94-.94-2.06-.94 2.06-2.06.94z\"/><path d=\"M17.41 7.96l-1.37-1.37c-.4-.4-.92-.59-1.43-.59-.52 0-1.04.2-1.43.59L10.3 9.45l-7.72 7.72c-.78.78-.78 2.05 0 2.83L4 21.41c.39.39.9.59 1.41.59.51 0 1.02-.2 1.41-.59l7.78-7.78 2.81-2.81c.8-.78.8-2.07 0-2.86zM5.41 20L4 18.59l7.72-7.72 1.47 1.35L5.41 20z\"/>\n",
              "  </svg>\n",
              "      </button>\n",
              "      \n",
              "  <style>\n",
              "    .colab-df-container {\n",
              "      display:flex;\n",
              "      flex-wrap:wrap;\n",
              "      gap: 12px;\n",
              "    }\n",
              "\n",
              "    .colab-df-convert {\n",
              "      background-color: #E8F0FE;\n",
              "      border: none;\n",
              "      border-radius: 50%;\n",
              "      cursor: pointer;\n",
              "      display: none;\n",
              "      fill: #1967D2;\n",
              "      height: 32px;\n",
              "      padding: 0 0 0 0;\n",
              "      width: 32px;\n",
              "    }\n",
              "\n",
              "    .colab-df-convert:hover {\n",
              "      background-color: #E2EBFA;\n",
              "      box-shadow: 0px 1px 2px rgba(60, 64, 67, 0.3), 0px 1px 3px 1px rgba(60, 64, 67, 0.15);\n",
              "      fill: #174EA6;\n",
              "    }\n",
              "\n",
              "    [theme=dark] .colab-df-convert {\n",
              "      background-color: #3B4455;\n",
              "      fill: #D2E3FC;\n",
              "    }\n",
              "\n",
              "    [theme=dark] .colab-df-convert:hover {\n",
              "      background-color: #434B5C;\n",
              "      box-shadow: 0px 1px 3px 1px rgba(0, 0, 0, 0.15);\n",
              "      filter: drop-shadow(0px 1px 2px rgba(0, 0, 0, 0.3));\n",
              "      fill: #FFFFFF;\n",
              "    }\n",
              "  </style>\n",
              "\n",
              "      <script>\n",
              "        const buttonEl =\n",
              "          document.querySelector('#df-70b54a79-42e8-41e4-b5f1-68b593b62041 button.colab-df-convert');\n",
              "        buttonEl.style.display =\n",
              "          google.colab.kernel.accessAllowed ? 'block' : 'none';\n",
              "\n",
              "        async function convertToInteractive(key) {\n",
              "          const element = document.querySelector('#df-70b54a79-42e8-41e4-b5f1-68b593b62041');\n",
              "          const dataTable =\n",
              "            await google.colab.kernel.invokeFunction('convertToInteractive',\n",
              "                                                     [key], {});\n",
              "          if (!dataTable) return;\n",
              "\n",
              "          const docLinkHtml = 'Like what you see? Visit the ' +\n",
              "            '<a target=\"_blank\" href=https://colab.research.google.com/notebooks/data_table.ipynb>data table notebook</a>'\n",
              "            + ' to learn more about interactive tables.';\n",
              "          element.innerHTML = '';\n",
              "          dataTable['output_type'] = 'display_data';\n",
              "          await google.colab.output.renderOutput(dataTable, element);\n",
              "          const docLink = document.createElement('div');\n",
              "          docLink.innerHTML = docLinkHtml;\n",
              "          element.appendChild(docLink);\n",
              "        }\n",
              "      </script>\n",
              "    </div>\n",
              "  </div>\n",
              "  "
            ]
          },
          "metadata": {},
          "execution_count": 8
        }
      ]
    },
    {
      "cell_type": "markdown",
      "source": [
        "Visulization of our data to get insights"
      ],
      "metadata": {
        "id": "IJ4gblWHaARv"
      }
    },
    {
      "cell_type": "code",
      "source": [
        "sns.countplot(x = 'Airline', hue = 'Class', data = flight_data)"
      ],
      "metadata": {
        "colab": {
          "base_uri": "https://localhost:8080/",
          "height": 466
        },
        "id": "OYj0hdzlaGpn",
        "outputId": "fbec4bd5-e4cb-4e89-94bd-d36540c83eb3"
      },
      "execution_count": null,
      "outputs": [
        {
          "output_type": "execute_result",
          "data": {
            "text/plain": [
              "<Axes: xlabel='Airline', ylabel='count'>"
            ]
          },
          "metadata": {},
          "execution_count": 9
        },
        {
          "output_type": "display_data",
          "data": {
            "text/plain": [
              "<Figure size 640x480 with 1 Axes>"
            ],
            "image/png": "[encoded data removed]"
          },
          "metadata": {}
        }
      ]
    },
    {
      "cell_type": "code",
      "source": [
        "sns.barplot(x = 'Airline',y='Length', data = flight_data)"
      ],
      "metadata": {
        "colab": {
          "base_uri": "https://localhost:8080/",
          "height": 466
        },
        "id": "IarFswm7aTZb",
        "outputId": "1b086768-0f6c-4369-eb3b-b6fc22c10597"
      },
      "execution_count": null,
      "outputs": [
        {
          "output_type": "execute_result",
          "data": {
            "text/plain": [
              "<Axes: xlabel='Airline', ylabel='Length'>"
            ]
          },
          "metadata": {},
          "execution_count": 10
        },
        {
          "output_type": "display_data",
          "data": {
            "text/plain": [
              "<Figure size 640x480 with 1 Axes>"
            ],
            "image/png": "[encoded data removed]"
          },
          "metadata": {}
        }
      ]
    },
    {
      "cell_type": "code",
      "source": [
        "sns.barplot(x = 'Airline', y = 'Time', data = flight_data)"
      ],
      "metadata": {
        "colab": {
          "base_uri": "https://localhost:8080/",
          "height": 466
        },
        "id": "trUO_HtEaiIV",
        "outputId": "fd24ebfa-82c4-4296-c6de-61705d3b1df7"
      },
      "execution_count": null,
      "outputs": [
        {
          "output_type": "execute_result",
          "data": {
            "text/plain": [
              "<Axes: xlabel='Airline', ylabel='Time'>"
            ]
          },
          "metadata": {},
          "execution_count": 11
        },
        {
          "output_type": "display_data",
          "data": {
            "text/plain": [
              "<Figure size 640x480 with 1 Axes>"
            ],
            "image/png": "[encoded data removed]"
          },
          "metadata": {}
        }
      ]
    },
    {
      "cell_type": "markdown",
      "source": [
        "*From above illuistration we get insights on data such as:\n",
        "WN is highest delay than other airliness,\n",
        "CO and UA have longest average flight time,\n",
        "Almost all of the flight have same departure*"
      ],
      "metadata": {
        "id": "ccLNjOfra_MW"
      }
    },
    {
      "cell_type": "markdown",
      "source": [
        "Preprocessing of our given data"
      ],
      "metadata": {
        "id": "aS02NVTDxML9"
      }
    },
    {
      "cell_type": "code",
      "source": [
        "#removing un required data in our model\n",
        "flight_data = flight_data.drop('Flight', axis =1)\n",
        "flight_data.head()"
      ],
      "metadata": {
        "id": "COtRiMcfxR63",
        "colab": {
          "base_uri": "https://localhost:8080/",
          "height": 206
        },
        "outputId": "29b21f8b-a3b7-4535-caf0-ec04fc579822"
      },
      "execution_count": null,
      "outputs": [
        {
          "output_type": "execute_result",
          "data": {
            "text/plain": [
              "     Time  Length Airline AirportFrom AirportTo  DayOfWeek  Class\n",
              "0  1296.0   141.0      DL         ATL       HOU          1      0\n",
              "1   360.0   146.0      OO         COS       ORD          4      0\n",
              "2  1170.0   143.0      B6         BOS       CLT          3      0\n",
              "3  1410.0   344.0      US         OGG       PHX          6      0\n",
              "4   692.0    98.0      FL         BMI       ATL          4      0"
            ],
            "text/html": [
              "\n",
              "  <div id=\"df-4619b1e0-0c17-4316-adcc-12a26517faa3\">\n",
              "    <div class=\"colab-df-container\">\n",
              "      <div>\n",
              "<style scoped>\n",
              "    .dataframe tbody tr th:only-of-type {\n",
              "        vertical-align: middle;\n",
              "    }\n",
              "\n",
              "    .dataframe tbody tr th {\n",
              "        vertical-align: top;\n",
              "    }\n",
              "\n",
              "    .dataframe thead th {\n",
              "        text-align: right;\n",
              "    }\n",
              "</style>\n",
              "<table border=\"1\" class=\"dataframe\">\n",
              "  <thead>\n",
              "    <tr style=\"text-align: right;\">\n",
              "      <th></th>\n",
              "      <th>Time</th>\n",
              "      <th>Length</th>\n",
              "      <th>Airline</th>\n",
              "      <th>AirportFrom</th>\n",
              "      <th>AirportTo</th>\n",
              "      <th>DayOfWeek</th>\n",
              "      <th>Class</th>\n",
              "    </tr>\n",
              "  </thead>\n",
              "  <tbody>\n",
              "    <tr>\n",
              "      <th>0</th>\n",
              "      <td>1296.0</td>\n",
              "      <td>141.0</td>\n",
              "      <td>DL</td>\n",
              "      <td>ATL</td>\n",
              "      <td>HOU</td>\n",
              "      <td>1</td>\n",
              "      <td>0</td>\n",
              "    </tr>\n",
              "    <tr>\n",
              "      <th>1</th>\n",
              "      <td>360.0</td>\n",
              "      <td>146.0</td>\n",
              "      <td>OO</td>\n",
              "      <td>COS</td>\n",
              "      <td>ORD</td>\n",
              "      <td>4</td>\n",
              "      <td>0</td>\n",
              "    </tr>\n",
              "    <tr>\n",
              "      <th>2</th>\n",
              "      <td>1170.0</td>\n",
              "      <td>143.0</td>\n",
              "      <td>B6</td>\n",
              "      <td>BOS</td>\n",
              "      <td>CLT</td>\n",
              "      <td>3</td>\n",
              "      <td>0</td>\n",
              "    </tr>\n",
              "    <tr>\n",
              "      <th>3</th>\n",
              "      <td>1410.0</td>\n",
              "      <td>344.0</td>\n",
              "      <td>US</td>\n",
              "      <td>OGG</td>\n",
              "      <td>PHX</td>\n",
              "      <td>6</td>\n",
              "      <td>0</td>\n",
              "    </tr>\n",
              "    <tr>\n",
              "      <th>4</th>\n",
              "      <td>692.0</td>\n",
              "      <td>98.0</td>\n",
              "      <td>FL</td>\n",
              "      <td>BMI</td>\n",
              "      <td>ATL</td>\n",
              "      <td>4</td>\n",
              "      <td>0</td>\n",
              "    </tr>\n",
              "  </tbody>\n",
              "</table>\n",
              "</div>\n",
              "      <button class=\"colab-df-convert\" onclick=\"convertToInteractive('df-4619b1e0-0c17-4316-adcc-12a26517faa3')\"\n",
              "              title=\"Convert this dataframe to an interactive table.\"\n",
              "              style=\"display:none;\">\n",
              "        \n",
              "  <svg xmlns=\"http://www.w3.org/2000/svg\" height=\"24px\"viewBox=\"0 0 24 24\"\n",
              "       width=\"24px\">\n",
              "    <path d=\"M0 0h24v24H0V0z\" fill=\"none\"/>\n",
              "    <path d=\"M18.56 5.44l.94 2.06.94-2.06 2.06-.94-2.06-.94-.94-2.06-.94 2.06-2.06.94zm-11 1L8.5 8.5l.94-2.06 2.06-.94-2.06-.94L8.5 2.5l-.94 2.06-2.06.94zm10 10l.94 2.06.94-2.06 2.06-.94-2.06-.94-.94-2.06-.94 2.06-2.06.94z\"/><path d=\"M17.41 7.96l-1.37-1.37c-.4-.4-.92-.59-1.43-.59-.52 0-1.04.2-1.43.59L10.3 9.45l-7.72 7.72c-.78.78-.78 2.05 0 2.83L4 21.41c.39.39.9.59 1.41.59.51 0 1.02-.2 1.41-.59l7.78-7.78 2.81-2.81c.8-.78.8-2.07 0-2.86zM5.41 20L4 18.59l7.72-7.72 1.47 1.35L5.41 20z\"/>\n",
              "  </svg>\n",
              "      </button>\n",
              "      \n",
              "  <style>\n",
              "    .colab-df-container {\n",
              "      display:flex;\n",
              "      flex-wrap:wrap;\n",
              "      gap: 12px;\n",
              "    }\n",
              "\n",
              "    .colab-df-convert {\n",
              "      background-color: #E8F0FE;\n",
              "      border: none;\n",
              "      border-radius: 50%;\n",
              "      cursor: pointer;\n",
              "      display: none;\n",
              "      fill: #1967D2;\n",
              "      height: 32px;\n",
              "      padding: 0 0 0 0;\n",
              "      width: 32px;\n",
              "    }\n",
              "\n",
              "    .colab-df-convert:hover {\n",
              "      background-color: #E2EBFA;\n",
              "      box-shadow: 0px 1px 2px rgba(60, 64, 67, 0.3), 0px 1px 3px 1px rgba(60, 64, 67, 0.15);\n",
              "      fill: #174EA6;\n",
              "    }\n",
              "\n",
              "    [theme=dark] .colab-df-convert {\n",
              "      background-color: #3B4455;\n",
              "      fill: #D2E3FC;\n",
              "    }\n",
              "\n",
              "    [theme=dark] .colab-df-convert:hover {\n",
              "      background-color: #434B5C;\n",
              "      box-shadow: 0px 1px 3px 1px rgba(0, 0, 0, 0.15);\n",
              "      filter: drop-shadow(0px 1px 2px rgba(0, 0, 0, 0.3));\n",
              "      fill: #FFFFFF;\n",
              "    }\n",
              "  </style>\n",
              "\n",
              "      <script>\n",
              "        const buttonEl =\n",
              "          document.querySelector('#df-4619b1e0-0c17-4316-adcc-12a26517faa3 button.colab-df-convert');\n",
              "        buttonEl.style.display =\n",
              "          google.colab.kernel.accessAllowed ? 'block' : 'none';\n",
              "\n",
              "        async function convertToInteractive(key) {\n",
              "          const element = document.querySelector('#df-4619b1e0-0c17-4316-adcc-12a26517faa3');\n",
              "          const dataTable =\n",
              "            await google.colab.kernel.invokeFunction('convertToInteractive',\n",
              "                                                     [key], {});\n",
              "          if (!dataTable) return;\n",
              "\n",
              "          const docLinkHtml = 'Like what you see? Visit the ' +\n",
              "            '<a target=\"_blank\" href=https://colab.research.google.com/notebooks/data_table.ipynb>data table notebook</a>'\n",
              "            + ' to learn more about interactive tables.';\n",
              "          element.innerHTML = '';\n",
              "          dataTable['output_type'] = 'display_data';\n",
              "          await google.colab.output.renderOutput(dataTable, element);\n",
              "          const docLink = document.createElement('div');\n",
              "          docLink.innerHTML = docLinkHtml;\n",
              "          element.appendChild(docLink);\n",
              "        }\n",
              "      </script>\n",
              "    </div>\n",
              "  </div>\n",
              "  "
            ]
          },
          "metadata": {},
          "execution_count": 12
        }
      ]
    },
    {
      "cell_type": "code",
      "source": [
        "print(flight_data.dtypes)"
      ],
      "metadata": {
        "colab": {
          "base_uri": "https://localhost:8080/"
        },
        "id": "flOUtF6rzTua",
        "outputId": "044421b0-cd18-416c-9937-fc7b1ad31a18"
      },
      "execution_count": null,
      "outputs": [
        {
          "output_type": "stream",
          "name": "stdout",
          "text": [
            "Time           float64\n",
            "Length         float64\n",
            "Airline         object\n",
            "AirportFrom     object\n",
            "AirportTo       object\n",
            "DayOfWeek        int64\n",
            "Class            int64\n",
            "dtype: object\n"
          ]
        }
      ]
    },
    {
      "cell_type": "markdown",
      "source": [
        "Encoding of various data to make all data in int form for our models"
      ],
      "metadata": {
        "id": "EMXBlpemziqt"
      }
    },
    {
      "cell_type": "code",
      "source": [
        "#taking unique values of Airline and encode them\n",
        "flight_data['Airline'].unique()"
      ],
      "metadata": {
        "colab": {
          "base_uri": "https://localhost:8080/"
        },
        "id": "blk18_HZznr_",
        "outputId": "2405fc6e-53d9-4fdf-89f6-ba6e98ea2714"
      },
      "execution_count": null,
      "outputs": [
        {
          "output_type": "execute_result",
          "data": {
            "text/plain": [
              "array(['DL', 'OO', 'B6', 'US', 'FL', 'WN', 'CO', 'AA', 'YV', 'EV', 'XE',\n",
              "       '9E', 'OH', 'UA', 'MQ', 'AS', 'F9', 'HA'], dtype=object)"
            ]
          },
          "metadata": {},
          "execution_count": 14
        }
      ]
    },
    {
      "cell_type": "code",
      "source": [
        "from sklearn.preprocessing import LabelEncoder"
      ],
      "metadata": {
        "id": "Lu2iuF68zzv3"
      },
      "execution_count": null,
      "outputs": []
    },
    {
      "cell_type": "code",
      "source": [
        "encoder = LabelEncoder()\n",
        "\n",
        "flight_data['Airline'] = encoder.fit_transform(flight_data['Airline'])\n",
        "flight_data['Airline'].unique()"
      ],
      "metadata": {
        "colab": {
          "base_uri": "https://localhost:8080/"
        },
        "id": "L5-Vz8bHz8VU",
        "outputId": "04835261-3bb2-45b6-de31-58e1823a5dde"
      },
      "execution_count": null,
      "outputs": [
        {
          "output_type": "execute_result",
          "data": {
            "text/plain": [
              "array([ 5, 12,  3, 14,  8, 15,  4,  1, 17,  6, 16,  0, 11, 13, 10,  2,  7,\n",
              "        9])"
            ]
          },
          "metadata": {},
          "execution_count": 16
        }
      ]
    },
    {
      "cell_type": "code",
      "source": [
        "# taking unique values of AirportFrom and encode them\n",
        "flight_data['AirportFrom'].unique()"
      ],
      "metadata": {
        "colab": {
          "base_uri": "https://localhost:8080/"
        },
        "id": "2stUCaH00V5i",
        "outputId": "4c2d410e-cb3a-44f3-ee01-8488e6cd8ef4"
      },
      "execution_count": null,
      "outputs": [
        {
          "output_type": "execute_result",
          "data": {
            "text/plain": [
              "array(['ATL', 'COS', 'BOS', 'OGG', 'BMI', 'MSY', 'EWR', 'DFW', 'BWI',\n",
              "       'CRW', 'LGB', 'BIS', 'CLT', 'IAH', 'LAX', 'JAX', 'SAV', 'CLE',\n",
              "       'FLL', 'SAN', 'BHM', 'ROC', 'DTW', 'STT', 'AUS', 'DCA', 'PHX',\n",
              "       'EYW', 'IND', 'JFK', 'ORD', 'PBI', 'SFO', 'MIA', 'DSM', 'SLC',\n",
              "       'PHL', 'BZN', 'GRB', 'MBS', 'SBA', 'TYS', 'MSP', 'DEN', 'SAT',\n",
              "       'BUF', 'RIC', 'SEA', 'PDX', 'LAS', 'IAD', 'HNL', 'BDL', 'MOT',\n",
              "       'PSE', 'CPR', 'SNA', 'STL', 'CVG', 'PIT', 'HSV', 'SGF', 'RDU',\n",
              "       'MEM', 'KOA', 'ELP', 'SJU', 'JAN', 'AEX', 'LGA', 'RSW', 'MDT',\n",
              "       'GUC', 'MKE', 'CAE', 'GRR', 'FAR', 'LIT', 'OMA', 'BNA', 'EVV',\n",
              "       'RDD', 'OKC', 'ITO', 'SJC', 'MCO', 'LBB', 'CSG', 'OAK', 'PHF',\n",
              "       'ABQ', 'SMF', 'FAY', 'ABI', 'MSO', 'MFE', 'GEG', 'MSN', 'TPA',\n",
              "       'DAY', 'RNO', 'PVD', 'ALB', 'CHO', 'ONT', 'LIH', 'PSP', 'LAN',\n",
              "       'LEX', 'XNA', 'GJT', 'CMH', 'GSO', 'PSC', 'SYR', 'AVL', 'MHT',\n",
              "       'GRK', 'MCI', 'TXK', 'LRD', 'ABE', 'LWB', 'ERI', 'DAL', 'ANC',\n",
              "       'TUS', 'ROA', 'MOD', 'JNU', 'SBP', 'CDV', 'TUL', 'FSD', 'FNT',\n",
              "       'BTV', 'FCA', 'GNV', 'RAP', 'MDW', 'FWA', 'BUR', 'PNS', 'RST',\n",
              "       'HOU', 'BOI', 'CRP', 'BRO', 'ATW', 'SHV', 'SMX', 'RDM', 'ORF',\n",
              "       'GPT', 'KTN', 'ICT', 'SAF', 'CAK', 'IDA', 'MQT', 'VPS', 'CHS',\n",
              "       'MAF', 'HPN', 'AVP', 'AZO', 'TRI', 'GSP', 'HDN', 'MLU', 'EUG',\n",
              "       'AMA', 'MHK', 'ISP', 'CID', 'MOB', 'BGR', 'SRQ', 'MLI', 'EKO',\n",
              "       'LFT', 'TOL', 'ECP', 'PSG', 'SBN', 'FAT', 'ELM', 'YUM', 'CLD',\n",
              "       'FAI', 'ASE', 'BTR', 'BQK', 'COU', 'MRY', 'CEC', 'CWA', 'PWM',\n",
              "       'FLG', 'TLH', 'SDF', 'BFL', 'CHA', 'ACV', 'MGM', 'ROW', 'GTR',\n",
              "       'EWN', 'ILM', 'OTZ', 'SGU', 'OTH', 'CMX', 'SWF', 'BET', 'GTF',\n",
              "       'CMI', 'MFR', 'JAC', 'DLH', 'ABY', 'MTJ', 'SCC', 'DRO', 'TEX',\n",
              "       'FSM', 'COD', 'GGG', 'DBQ', 'GFK', 'BKG', 'AGS', 'BTM', 'DHN',\n",
              "       'TYR', 'EGE', 'PIH', 'VLD', 'MEI', 'SIT', 'MLB', 'PAH', 'YAK',\n",
              "       'DAB', 'HLN', 'PIA', 'SPI', 'GCC', 'IPL', 'TVC', 'OAJ', 'EAU',\n",
              "       'BGM', 'MYR', 'HRL', 'MKG', 'SUN', 'LSE', 'CIC', 'OME', 'ITH',\n",
              "       'LNK', 'BIL', 'CYS', 'LCH', 'BQN', 'WRG', 'BRW', 'SPS', 'RKS',\n",
              "       'TWF', 'LMT', 'ACT', 'PLN', 'ACY', 'ADK', 'SJT', 'IYK', 'LWS',\n",
              "       'BLI', 'SCE', 'MMH', 'LYH', 'GUM', 'CDC', 'ADQ', 'HTS', 'PIE',\n",
              "       'STX', 'FLO', 'UTM', 'CLL', 'ABR'], dtype=object)"
            ]
          },
          "metadata": {},
          "execution_count": 17
        }
      ]
    },
    {
      "cell_type": "code",
      "source": [
        "flight_data['AirportFrom'] = encoder.fit_transform(flight_data['AirportFrom'])\n",
        "flight_data['AirportFrom'].unique()"
      ],
      "metadata": {
        "colab": {
          "base_uri": "https://localhost:8080/"
        },
        "id": "N4dqO0LI0nLc",
        "outputId": "f0f71ecb-2dc8-44b6-f4ca-641e7107687c"
      },
      "execution_count": null,
      "outputs": [
        {
          "output_type": "execute_result",
          "data": {
            "text/plain": [
              "array([ 16,  65,  35, 203,  32, 198,  96,  80,  45,  69, 160,  29,  60,\n",
              "       135, 154, 147, 245,  58, 104, 243,  27, 238,  85, 269,  18,  78,\n",
              "       217,  97, 139, 148, 208, 213, 253, 183,  84, 261, 216,  46, 117,\n",
              "       171, 246, 285, 197,  79, 244,  43, 234, 252, 214, 153, 134, 128,\n",
              "        22, 192, 225,  67, 264, 268,  71, 221, 132, 254, 233, 177, 150,\n",
              "        91, 260, 146,  10, 159, 241, 174, 124, 184,  47, 119,  99, 162,\n",
              "       205,  33,  94, 231, 204, 143, 258, 173, 155,  70, 202, 215,   2,\n",
              "       262, 101,   1, 196, 178, 111, 195, 277,  76, 236, 228,  12,  53,\n",
              "       207, 161, 227, 152, 157, 290, 114,  61, 120, 224, 273,  19, 182,\n",
              "       118, 172, 283, 165,   0, 167,  92,  75,  14, 280, 237, 191, 149,\n",
              "       248,  50, 279, 107, 106,  42, 102, 115, 230, 175, 109,  44, 223,\n",
              "       240, 129,  34,  68,  38,  17, 256, 263, 232, 209, 116, 151, 136,\n",
              "       242,  48, 137, 193, 288,  54, 170, 130,  20,  21, 278, 121, 126,\n",
              "       188,  93,  13, 181, 141,  56, 190,  26, 267, 187,  89, 158, 276,\n",
              "        87, 226, 247, 100,  90, 292,  57,  98,  15,  41,  36,  66, 194,\n",
              "        51,  72, 229, 103, 275, 251,  24,  52,   6, 180, 239, 123,  95,\n",
              "       138, 211, 255, 210,  63, 272,  23, 122,  62, 179, 145,  82,   4,\n",
              "       199, 249,  83, 274, 108,  64, 113,  77, 112,  30,  11,  40,  81,\n",
              "       284,  88, 220, 287, 176, 257, 186, 212, 291,  74, 127, 218, 265,\n",
              "       110, 140, 281, 201,  86,  25, 200, 131, 185, 271, 166,  55, 206,\n",
              "       142, 164,  28,  73, 156,  37, 289,  39, 266, 235, 282, 163,   5,\n",
              "       222,   7,   8, 259, 144, 168,  31, 250, 189, 169, 125,  49,   9,\n",
              "       133, 219, 270, 105, 286,  59,   3])"
            ]
          },
          "metadata": {},
          "execution_count": 18
        }
      ]
    },
    {
      "cell_type": "code",
      "source": [
        "# taking unique values of Airport and encode them\n",
        "flight_data['AirportTo'].unique()"
      ],
      "metadata": {
        "colab": {
          "base_uri": "https://localhost:8080/"
        },
        "id": "jFdPY5U71FnK",
        "outputId": "c5547b24-90b9-4c25-ec4a-752acad80b60"
      },
      "execution_count": null,
      "outputs": [
        {
          "output_type": "execute_result",
          "data": {
            "text/plain": [
              "array(['HOU', 'ORD', 'CLT', 'PHX', 'ATL', 'BHM', 'DFW', 'MEM', 'GRR',\n",
              "       'PBI', 'MCO', 'SFO', 'DEN', 'YUM', 'BWI', 'HPN', 'EWR', 'JFK',\n",
              "       'MKE', 'OAK', 'IAH', 'CLE', 'SYR', 'SJU', 'BDL', 'SAN', 'DTW',\n",
              "       'PSP', 'DCA', 'LGA', 'STL', 'FAY', 'MSP', 'BUF', 'LAS', 'SGU',\n",
              "       'SLC', 'GJT', 'LAX', 'VPS', 'FAR', 'RKS', 'BOS', 'ANC', 'SNA',\n",
              "       'ONT', 'RNO', 'JAX', 'GSP', 'CVG', 'TPA', 'SEA', 'LEX', 'SMF',\n",
              "       'CAE', 'STT', 'DAY', 'MDW', 'RSW', 'ITO', 'IAD', 'ICT', 'HNL',\n",
              "       'MIA', 'CRW', 'RDU', 'MHT', 'FAT', 'CAK', 'COS', 'DAL', 'TYS',\n",
              "       'PHL', 'ABI', 'MOB', 'SDF', 'SAV', 'MDT', 'LIT', 'TUL', 'ACV',\n",
              "       'BNA', 'MCI', 'MSY', 'FLL', 'PVD', 'OKC', 'ECP', 'PHF', 'AUS',\n",
              "       'RIC', 'LIH', 'ABQ', 'JAN', 'PIT', 'BMI', 'BTV', 'RAP', 'MRY',\n",
              "       'CSG', 'SHV', 'FAI', 'SJC', 'PIA', 'SBN', 'IND', 'SGF', 'ACT',\n",
              "       'SRQ', 'ROC', 'CHO', 'JAC', 'SAT', 'FWA', 'OMA', 'PDX', 'CMH',\n",
              "       'PWM', 'CID', 'TRI', 'ORF', 'GTF', 'TUS', 'MHK', 'BUR', 'MLU',\n",
              "       'CEC', 'TEX', 'MBS', 'DSM', 'HRL', 'LFT', 'ELP', 'AEX', 'CPR',\n",
              "       'LBB', 'MYR', 'ALB', 'COU', 'LSE', 'CHA', 'MLI', 'GEG', 'AZO',\n",
              "       'MFR', 'BTR', 'FLG', 'KTN', 'PSC', 'GSO', 'OGG', 'MSN', 'GPT',\n",
              "       'PNS', 'RDM', 'BZN', 'DLH', 'CRP', 'TXK', 'KOA', 'MQT', 'MAF',\n",
              "       'TLH', 'XNA', 'CWA', 'SBP', 'BFL', 'DRO', 'WRG', 'DHN', 'SPS',\n",
              "       'AMA', 'EGE', 'BET', 'FCA', 'EUG', 'EVV', 'AVL', 'HSV', 'PIE',\n",
              "       'MLB', 'SWF', 'ASE', 'BGM', 'MSO', 'ADK', 'GRK', 'SUN', 'SBA',\n",
              "       'LGB', 'CHS', 'GNV', 'MOT', 'LAN', 'LNK', 'OME', 'OTH', 'ISP',\n",
              "       'FNT', 'EAU', 'ILM', 'BRW', 'LCH', 'IYK', 'MKG', 'HDN', 'BRO',\n",
              "       'GRB', 'FSD', 'LRD', 'RDD', 'SPI', 'ROA', 'IPL', 'EYW', 'SAF',\n",
              "       'LWS', 'AGS', 'CMX', 'ATW', 'MGM', 'GGG', 'BOI', 'FLO', 'COD',\n",
              "       'ACY', 'CMI', 'JNU', 'AVP', 'ERI', 'TYR', 'DAB', 'TVC', 'FSM',\n",
              "       'IDA', 'MFE', 'EKO', 'ABE', 'PAH', 'LMT', 'YAK', 'HLN', 'MMH',\n",
              "       'ITH', 'LYH', 'BIL', 'EWN', 'SMX', 'MEI', 'OAJ', 'SCE', 'CLD',\n",
              "       'BIS', 'GFK', 'MTJ', 'BQN', 'BQK', 'GTR', 'CDV', 'BKG', 'PIH',\n",
              "       'ROW', 'PLN', 'TWF', 'ELM', 'GCC', 'CYS', 'CDC', 'ABY', 'VLD',\n",
              "       'MOD', 'STX', 'OTZ', 'HTS', 'BTM', 'PSE', 'SCC', 'RST', 'DBQ',\n",
              "       'ADQ', 'PSG', 'SIT', 'GUC', 'LWB', 'BGR', 'CIC', 'GUM', 'UTM',\n",
              "       'CLL', 'TOL', 'SJT', 'BLI', 'ABR'], dtype=object)"
            ]
          },
          "metadata": {},
          "execution_count": 19
        }
      ]
    },
    {
      "cell_type": "code",
      "source": [
        "flight_data['AirportTo'] = encoder.fit_transform(flight_data['AirportTo'])\n",
        "flight_data['AirportTo'].unique()"
      ],
      "metadata": {
        "colab": {
          "base_uri": "https://localhost:8080/"
        },
        "id": "z3G3qCgw1jCA",
        "outputId": "277cc4b6-d35c-4956-d1dd-b1786b356435"
      },
      "execution_count": null,
      "outputs": [
        {
          "output_type": "execute_result",
          "data": {
            "text/plain": [
              "array([129, 208,  60, 217,  16,  27,  80, 177, 119, 213, 173, 253,  79,\n",
              "       292,  45, 130,  96, 148, 184, 202, 135,  58, 273, 260,  22, 243,\n",
              "        85, 227,  78, 159, 268, 101, 197,  43, 153, 255, 261, 114, 154,\n",
              "       288,  99, 235,  35,  14, 264, 207, 236, 147, 121,  71, 277, 252,\n",
              "       157, 262,  47, 269,  76, 175, 241, 143, 134, 136, 128, 183,  69,\n",
              "       233, 182, 100,  48,  65,  75, 285, 216,   1, 190, 251, 245, 174,\n",
              "       162, 279,   6,  33, 172, 198, 104, 228, 204,  87, 215,  18, 234,\n",
              "       161,   2, 146, 221,  32,  42, 230, 194,  70, 256,  98, 258, 218,\n",
              "       247, 139, 254,   5, 267, 238,  53, 145, 244, 109, 205, 214,  61,\n",
              "       229,  56, 278, 209, 122, 280, 181,  44, 188,  51, 274, 171,  84,\n",
              "       131, 158,  91,  10,  67, 155, 200,  12,  66, 166,  52, 187, 111,\n",
              "        21, 179,  41, 103, 151, 224, 120, 203, 195, 116, 223, 232,  46,\n",
              "        82,  68, 283, 150, 193, 170, 275, 290,  72, 248,  24,  83, 289,\n",
              "        81, 266,  13,  88,  23, 102,  93,  94,  19, 132, 219, 186, 272,\n",
              "        15,  25, 196,   8, 118, 271, 246, 160,  54, 115, 192, 152, 164,\n",
              "       206, 210, 141, 106,  86, 138,  39, 156, 144, 185, 126,  38, 117,\n",
              "       107, 165, 231, 265, 237, 140,  97, 242, 168,  11,  63,  17, 180,\n",
              "       113,  34, 105,  64,   7,  62, 149,  20,  92, 284,  74, 281, 108,\n",
              "       137, 178,  89,   0, 212, 163, 291, 127, 189, 142, 169,  28,  95,\n",
              "       263, 176, 201, 250,  57,  29, 112, 199,  37,  36, 123,  50,  30,\n",
              "       220, 239, 222, 282,  90, 110,  73,  49,   4, 287, 191, 270, 211,\n",
              "       133,  40, 225, 249, 240,  77,   9, 226, 257, 124, 167,  26,  55,\n",
              "       125, 286,  59, 276, 259,  31,   3])"
            ]
          },
          "metadata": {},
          "execution_count": 20
        }
      ]
    },
    {
      "cell_type": "code",
      "source": [
        "flight_data.dtypes"
      ],
      "metadata": {
        "colab": {
          "base_uri": "https://localhost:8080/"
        },
        "id": "xT4AO1xz1sIw",
        "outputId": "400caa7d-b756-4079-adbf-3a156edd32b1"
      },
      "execution_count": null,
      "outputs": [
        {
          "output_type": "execute_result",
          "data": {
            "text/plain": [
              "Time           float64\n",
              "Length         float64\n",
              "Airline          int64\n",
              "AirportFrom      int64\n",
              "AirportTo        int64\n",
              "DayOfWeek        int64\n",
              "Class            int64\n",
              "dtype: object"
            ]
          },
          "metadata": {},
          "execution_count": 21
        }
      ]
    },
    {
      "cell_type": "markdown",
      "source": [
        "ReSampling Our Train Data"
      ],
      "metadata": {
        "id": "Ppnz5r9857Bg"
      }
    },
    {
      "cell_type": "code",
      "source": [
        "sns.countplot(x='Class',data = flight_data)\n",
        "flight_data['Class'].value_counts()"
      ],
      "metadata": {
        "colab": {
          "base_uri": "https://localhost:8080/",
          "height": 501
        },
        "id": "feVqTAs18nZQ",
        "outputId": "c8c2fd9e-b5d3-4cb1-d23d-626ff19123f8"
      },
      "execution_count": null,
      "outputs": [
        {
          "output_type": "execute_result",
          "data": {
            "text/plain": [
              "0    299118\n",
              "1    240264\n",
              "Name: Class, dtype: int64"
            ]
          },
          "metadata": {},
          "execution_count": 22
        },
        {
          "output_type": "display_data",
          "data": {
            "text/plain": [
              "<Figure size 640x480 with 1 Axes>"
            ],
            "image/png": "[encoded data removed]"
          },
          "metadata": {}
        }
      ]
    },
    {
      "cell_type": "code",
      "source": [
        "from sklearn.utils import resample\n",
        "\n",
        "# Dividing data into majority and minority\n",
        "flight_major = flight_data[(flight_data['Class']==0)]\n",
        "flight_minor = flight_data[(flight_data['Class']==1)]\n",
        "# Umsampling minor data\n",
        "\n",
        "flight_minor_upsample = resample(flight_minor,replace = True ,n_samples = len(flight_major),random_state = 0)\n",
        "\n",
        "# combining both data\n",
        "\n",
        "flight_upsampled = pd.concat([flight_minor_upsample, flight_major])"
      ],
      "metadata": {
        "id": "N1C_Xyau83-j"
      },
      "execution_count": null,
      "outputs": []
    },
    {
      "cell_type": "code",
      "source": [
        "sns.countplot(x='Class',data = flight_upsampled)\n",
        "flight_upsampled['Class'].value_counts()"
      ],
      "metadata": {
        "colab": {
          "base_uri": "https://localhost:8080/",
          "height": 501
        },
        "id": "AnnwAoej9Gia",
        "outputId": "dbc3fd84-356d-473e-e649-1f7c6ba6d9fd"
      },
      "execution_count": null,
      "outputs": [
        {
          "output_type": "execute_result",
          "data": {
            "text/plain": [
              "1    299118\n",
              "0    299118\n",
              "Name: Class, dtype: int64"
            ]
          },
          "metadata": {},
          "execution_count": 24
        },
        {
          "output_type": "display_data",
          "data": {
            "text/plain": [
              "<Figure size 640x480 with 1 Axes>"
            ],
            "image/png": "[encoded data removed]"
          },
          "metadata": {}
        }
      ]
    },
    {
      "cell_type": "markdown",
      "source": [
        "Removing Outliers from our data"
      ],
      "metadata": {
        "id": "pOqistzg_eJW"
      }
    },
    {
      "cell_type": "code",
      "source": [
        "import scipy.stats as stats\n",
        "z= np.abs(stats.zscore(flight_upsampled))\n",
        "final_train = flight_upsampled[(z<3).all(axis=1)]\n",
        "final_train.shape"
      ],
      "metadata": {
        "colab": {
          "base_uri": "https://localhost:8080/"
        },
        "id": "KF_4xgc8_hTf",
        "outputId": "f145858c-2952-4751-ecd5-c155cb1960a0"
      },
      "execution_count": null,
      "outputs": [
        {
          "output_type": "execute_result",
          "data": {
            "text/plain": [
              "(587262, 7)"
            ]
          },
          "metadata": {},
          "execution_count": 25
        }
      ]
    },
    {
      "cell_type": "markdown",
      "source": [
        "Attribute Correlation"
      ],
      "metadata": {
        "id": "Tbd1LHHf_7x5"
      }
    },
    {
      "cell_type": "code",
      "source": [
        "sns.heatmap(final_train.corr(), fmt = '.2g')"
      ],
      "metadata": {
        "colab": {
          "base_uri": "https://localhost:8080/",
          "height": 521
        },
        "id": "QIVUdXrV_-Y0",
        "outputId": "09045ae5-8448-44f4-bfb6-bf48e70bf0a3"
      },
      "execution_count": null,
      "outputs": [
        {
          "output_type": "execute_result",
          "data": {
            "text/plain": [
              "<Axes: >"
            ]
          },
          "metadata": {},
          "execution_count": 26
        },
        {
          "output_type": "display_data",
          "data": {
            "text/plain": [
              "<Figure size 640x480 with 2 Axes>"
            ],
            "image/png": "[encoded data removed]"
          },
          "metadata": {}
        }
      ]
    },
    {
      "cell_type": "code",
      "source": [
        "#dividing data into dependent and undependent feature \n",
        "x = final_train.drop('Class', axis=1)\n",
        "y = final_train['Class']"
      ],
      "metadata": {
        "id": "Zn6YIrzMAgbf"
      },
      "execution_count": null,
      "outputs": []
    },
    {
      "cell_type": "markdown",
      "source": [
        "Splitting data into train and test data"
      ],
      "metadata": {
        "id": "pJr1D2h4eJki"
      }
    },
    {
      "cell_type": "code",
      "source": [
        "from sklearn.model_selection import train_test_split\n",
        "from sklearn.metrics import accuracy_score\n",
        "x_train,x_test,y_train,y_test=train_test_split(x,y, test_size=0.2, random_state=42)"
      ],
      "metadata": {
        "id": "hDO-JjwXeS4K"
      },
      "execution_count": null,
      "outputs": []
    },
    {
      "cell_type": "markdown",
      "source": [
        "Implementation of various models"
      ],
      "metadata": {
        "id": "7C5Ku9oVBOy_"
      }
    },
    {
      "cell_type": "markdown",
      "source": [
        "***Logistic Regression***"
      ],
      "metadata": {
        "id": "5sNn0OfABXN-"
      }
    },
    {
      "cell_type": "code",
      "source": [
        "from sklearn.linear_model import LogisticRegression\n",
        "logistic_model = LogisticRegression()"
      ],
      "metadata": {
        "id": "hgGCn71QBVfG"
      },
      "execution_count": null,
      "outputs": []
    },
    {
      "cell_type": "code",
      "source": [
        "logistic_model.fit(x_train,y_train)"
      ],
      "metadata": {
        "colab": {
          "base_uri": "https://localhost:8080/",
          "height": 75
        },
        "id": "H9TZJVERBsHA",
        "outputId": "3002b31d-e6e2-4186-ba45-2175371e9942"
      },
      "execution_count": null,
      "outputs": [
        {
          "output_type": "execute_result",
          "data": {
            "text/plain": [
              "LogisticRegression()"
            ],
            "text/html": [
              "<style>#sk-container-id-1 {color: black;background-color: white;}#sk-container-id-1 pre{padding: 0;}#sk-container-id-1 div.sk-toggleable {background-color: white;}#sk-container-id-1 label.sk-toggleable__label {cursor: pointer;display: block;width: 100%;margin-bottom: 0;padding: 0.3em;box-sizing: border-box;text-align: center;}#sk-container-id-1 label.sk-toggleable__label-arrow:before {content: \"▸\";float: left;margin-right: 0.25em;color: #696969;}#sk-container-id-1 label.sk-toggleable__label-arrow:hover:before {color: black;}#sk-container-id-1 div.sk-estimator:hover label.sk-toggleable__label-arrow:before {color: black;}#sk-container-id-1 div.sk-toggleable__content {max-height: 0;max-width: 0;overflow: hidden;text-align: left;background-color: #f0f8ff;}#sk-container-id-1 div.sk-toggleable__content pre {margin: 0.2em;color: black;border-radius: 0.25em;background-color: #f0f8ff;}#sk-container-id-1 input.sk-toggleable__control:checked~div.sk-toggleable__content {max-height: 200px;max-width: 100%;overflow: auto;}#sk-container-id-1 input.sk-toggleable__control:checked~label.sk-toggleable__label-arrow:before {content: \"▾\";}#sk-container-id-1 div.sk-estimator input.sk-toggleable__control:checked~label.sk-toggleable__label {background-color: #d4ebff;}#sk-container-id-1 div.sk-label input.sk-toggleable__control:checked~label.sk-toggleable__label {background-color: #d4ebff;}#sk-container-id-1 input.sk-hidden--visually {border: 0;clip: rect(1px 1px 1px 1px);clip: rect(1px, 1px, 1px, 1px);height: 1px;margin: -1px;overflow: hidden;padding: 0;position: absolute;width: 1px;}#sk-container-id-1 div.sk-estimator {font-family: monospace;background-color: #f0f8ff;border: 1px dotted black;border-radius: 0.25em;box-sizing: border-box;margin-bottom: 0.5em;}#sk-container-id-1 div.sk-estimator:hover {background-color: #d4ebff;}#sk-container-id-1 div.sk-parallel-item::after {content: \"\";width: 100%;border-bottom: 1px solid gray;flex-grow: 1;}#sk-container-id-1 div.sk-label:hover label.sk-toggleable__label {background-color: #d4ebff;}#sk-container-id-1 div.sk-serial::before {content: \"\";position: absolute;border-left: 1px solid gray;box-sizing: border-box;top: 0;bottom: 0;left: 50%;z-index: 0;}#sk-container-id-1 div.sk-serial {display: flex;flex-direction: column;align-items: center;background-color: white;padding-right: 0.2em;padding-left: 0.2em;position: relative;}#sk-container-id-1 div.sk-item {position: relative;z-index: 1;}#sk-container-id-1 div.sk-parallel {display: flex;align-items: stretch;justify-content: center;background-color: white;position: relative;}#sk-container-id-1 div.sk-item::before, #sk-container-id-1 div.sk-parallel-item::before {content: \"\";position: absolute;border-left: 1px solid gray;box-sizing: border-box;top: 0;bottom: 0;left: 50%;z-index: -1;}#sk-container-id-1 div.sk-parallel-item {display: flex;flex-direction: column;z-index: 1;position: relative;background-color: white;}#sk-container-id-1 div.sk-parallel-item:first-child::after {align-self: flex-end;width: 50%;}#sk-container-id-1 div.sk-parallel-item:last-child::after {align-self: flex-start;width: 50%;}#sk-container-id-1 div.sk-parallel-item:only-child::after {width: 0;}#sk-container-id-1 div.sk-dashed-wrapped {border: 1px dashed gray;margin: 0 0.4em 0.5em 0.4em;box-sizing: border-box;padding-bottom: 0.4em;background-color: white;}#sk-container-id-1 div.sk-label label {font-family: monospace;font-weight: bold;display: inline-block;line-height: 1.2em;}#sk-container-id-1 div.sk-label-container {text-align: center;}#sk-container-id-1 div.sk-container {/* jupyter's `normalize.less` sets `[hidden] { display: none; }` but bootstrap.min.css set `[hidden] { display: none !important; }` so we also need the `!important` here to be able to override the default hidden behavior on the sphinx rendered scikit-learn.org. See: https://github.com/scikit-learn/scikit-learn/issues/21755 */display: inline-block !important;position: relative;}#sk-container-id-1 div.sk-text-repr-fallback {display: none;}</style><div id=\"sk-container-id-1\" class=\"sk-top-container\"><div class=\"sk-text-repr-fallback\"><pre>LogisticRegression()</pre><b>In a Jupyter environment, please rerun this cell to show the HTML representation or trust the notebook. <br />On GitHub, the HTML representation is unable to render, please try loading this page with nbviewer.org.</b></div><div class=\"sk-container\" hidden><div class=\"sk-item\"><div class=\"sk-estimator sk-toggleable\"><input class=\"sk-toggleable__control sk-hidden--visually\" id=\"sk-estimator-id-1\" type=\"checkbox\" checked><label for=\"sk-estimator-id-1\" class=\"sk-toggleable__label sk-toggleable__label-arrow\">LogisticRegression</label><div class=\"sk-toggleable__content\"><pre>LogisticRegression()</pre></div></div></div></div></div>"
            ]
          },
          "metadata": {},
          "execution_count": 30
        }
      ]
    },
    {
      "cell_type": "code",
      "source": [
        "log_pred =logistic_model.predict(x_test)\n",
        "print(\"Accuracy Score : \",round(accuracy_score(y_test,log_pred)*100,2),'%')"
      ],
      "metadata": {
        "colab": {
          "base_uri": "https://localhost:8080/"
        },
        "id": "8v7-b3aeBykG",
        "outputId": "2a966d48-10fc-4423-c4f6-e1c349775db2"
      },
      "execution_count": null,
      "outputs": [
        {
          "output_type": "stream",
          "name": "stdout",
          "text": [
            "Accuracy Score :  57.71 %\n"
          ]
        }
      ]
    },
    {
      "cell_type": "code",
      "source": [
        "from sklearn.metrics import accuracy_score,f1_score,precision_score,recall_score\n",
        "print(\"F-1 Score : \",round(f1_score(y_test,log_pred)*100,2),'%')\n",
        "print(\"Precision Score : \",round(precision_score(y_test,log_pred)*100,2),'%')\n",
        "print(\"Recall Score : \",round(recall_score(y_test,log_pred)*100,2),'%')"
      ],
      "metadata": {
        "colab": {
          "base_uri": "https://localhost:8080/"
        },
        "id": "4N7ngsU9CH9l",
        "outputId": "fb81ba98-4c51-46bd-e686-479304ce154c"
      },
      "execution_count": null,
      "outputs": [
        {
          "output_type": "stream",
          "name": "stdout",
          "text": [
            "F-1 Score :  57.53 %\n",
            "Precision Score :  57.55 %\n",
            "Recall Score :  57.51 %\n"
          ]
        }
      ]
    },
    {
      "cell_type": "markdown",
      "source": [
        "***DECISION TREE CLASSIFIER***"
      ],
      "metadata": {
        "id": "yKyM-Y3VC9ZK"
      }
    },
    {
      "cell_type": "code",
      "source": [
        "from sklearn.tree import DecisionTreeClassifier\n",
        "dt_classifier= DecisionTreeClassifier()\n",
        "\n",
        "\n",
        "dt_classifier.fit(x_train,y_train)\n",
        "\n",
        "\n",
        "y_pred=dt_classifier.predict(x_test)\n",
        "print(\"Accuracy Score : \", round(accuracy_score(y_test,y_pred)*100,2),'%')"
      ],
      "metadata": {
        "colab": {
          "base_uri": "https://localhost:8080/"
        },
        "id": "NSJUj5BjDC-1",
        "outputId": "1d7ec987-d0c8-43a0-84e8-6af10d67fefa"
      },
      "execution_count": null,
      "outputs": [
        {
          "output_type": "stream",
          "name": "stdout",
          "text": [
            "Accuracy Score :  68.23 %\n"
          ]
        }
      ]
    },
    {
      "cell_type": "code",
      "source": [
        "from sklearn.metrics import accuracy_score,f1_score,precision_score,recall_score\n",
        "print(\"F-1 Score : \",round(f1_score(y_test,y_pred)*100,2),'%')\n",
        "print(\"Precision Score : \",round(precision_score(y_test,y_pred)*100,2),'%')\n",
        "print(\"Recall Score : \",round(recall_score(y_test,y_pred)*100,2),'%')\n"
      ],
      "metadata": {
        "colab": {
          "base_uri": "https://localhost:8080/"
        },
        "id": "ZO20-IcJDG-w",
        "outputId": "26178c2b-be5f-4a30-db36-1d78c6f87c06"
      },
      "execution_count": null,
      "outputs": [
        {
          "output_type": "stream",
          "name": "stdout",
          "text": [
            "F-1 Score :  67.62 %\n",
            "Precision Score :  68.68 %\n",
            "Recall Score :  66.58 %\n"
          ]
        }
      ]
    },
    {
      "cell_type": "markdown",
      "source": [
        "***Random Forest Classifier***"
      ],
      "metadata": {
        "id": "zeX8d6HlDOY8"
      }
    },
    {
      "cell_type": "code",
      "source": [
        "from sklearn.ensemble import RandomForestClassifier\n",
        "rf_classifier=RandomForestClassifier(random_state=0)\n",
        "\n",
        "\n",
        "rf_classifier.fit(x_train,y_train)\n",
        "\n",
        "\n",
        "rf_predict=rf_classifier.predict(x_test)\n",
        "print(\"Accuracy Score : \", round(accuracy_score(y_test,rf_predict)*100,2),'%')"
      ],
      "metadata": {
        "colab": {
          "base_uri": "https://localhost:8080/"
        },
        "id": "2DA7xGvaDKr8",
        "outputId": "2d7bda4e-3d99-4d68-b59a-db1586573913"
      },
      "execution_count": null,
      "outputs": [
        {
          "output_type": "stream",
          "name": "stdout",
          "text": [
            "Accuracy Score :  70.07 %\n"
          ]
        }
      ]
    },
    {
      "cell_type": "code",
      "source": [
        "from sklearn.metrics import accuracy_score,f1_score,precision_score,recall_score\n",
        "print(\"F-1 Score : \",round(f1_score(y_test,rf_predict)*100,2),'%')\n",
        "print(\"Precision Score : \",round(precision_score(y_test,rf_predict)*100,2),'%')\n",
        "print(\"Recall Score : \",round(recall_score(y_test,rf_predict)*100,2),'%')"
      ],
      "metadata": {
        "colab": {
          "base_uri": "https://localhost:8080/"
        },
        "id": "G02wHSx1DUTw",
        "outputId": "da6ad4f7-2f40-4666-8e6e-f48417aa1626"
      },
      "execution_count": null,
      "outputs": [
        {
          "output_type": "stream",
          "name": "stdout",
          "text": [
            "F-1 Score :  70.89 %\n",
            "Precision Score :  68.74 %\n",
            "Recall Score :  73.18 %\n"
          ]
        }
      ]
    },
    {
      "cell_type": "markdown",
      "source": [
        "***AdaBoost Classifier***"
      ],
      "metadata": {
        "id": "-eTV5CI6Dq_N"
      }
    },
    {
      "cell_type": "code",
      "source": [
        "from sklearn.ensemble import AdaBoostClassifier\n",
        "ada_model= AdaBoostClassifier()\n",
        "ada_model.fit(x_train,y_train)\n",
        "ada_pred=ada_model.predict(x_test)\n",
        "print(\"Accuracy Score : \", round(accuracy_score(y_test,ada_pred)*100,2),'%')"
      ],
      "metadata": {
        "colab": {
          "base_uri": "https://localhost:8080/"
        },
        "id": "FWV1urYwDnw4",
        "outputId": "c4904cf3-a860-48c5-88bb-41546d279129"
      },
      "execution_count": null,
      "outputs": [
        {
          "output_type": "stream",
          "name": "stdout",
          "text": [
            "Accuracy Score :  62.79 %\n"
          ]
        }
      ]
    },
    {
      "cell_type": "code",
      "source": [
        "from sklearn.metrics import accuracy_score,f1_score,precision_score,recall_score\n",
        "print(\"F-1 Score : \",round(f1_score(y_test,ada_pred)*100,2),'%')\n",
        "print(\"Precision Score : \",round(precision_score(y_test,ada_pred)*100,2),'%')\n",
        "print(\"Recall Score : \",round(recall_score(y_test,ada_pred)*100,2),'%')"
      ],
      "metadata": {
        "colab": {
          "base_uri": "https://localhost:8080/"
        },
        "id": "GXdCrbZVD1sq",
        "outputId": "b2b57167-8a1e-4303-c4d4-26805198ff87"
      },
      "execution_count": null,
      "outputs": [
        {
          "output_type": "stream",
          "name": "stdout",
          "text": [
            "F-1 Score :  61.54 %\n",
            "Precision Score :  63.42 %\n",
            "Recall Score :  59.76 %\n"
          ]
        }
      ]
    },
    {
      "cell_type": "markdown",
      "source": [
        "***Naive Bayes***"
      ],
      "metadata": {
        "id": "xdqFb2-DFgfK"
      }
    },
    {
      "cell_type": "code",
      "source": [
        "from sklearn.naive_bayes import GaussianNB\n",
        "gnb = GaussianNB()\n",
        "gnb.fit(x_train, y_train)\n",
        "y_pred = gnb.predict(x_test)\n",
        "print(\"Accuracy Score : \", round(accuracy_score(y_test,y_pred)*100,2),'%')"
      ],
      "metadata": {
        "colab": {
          "base_uri": "https://localhost:8080/"
        },
        "id": "Sg945w_XD9b_",
        "outputId": "0fd2b8e8-17f1-428d-cd86-f4249556c08c"
      },
      "execution_count": null,
      "outputs": [
        {
          "output_type": "stream",
          "name": "stdout",
          "text": [
            "Accuracy Score :  57.99 %\n"
          ]
        }
      ]
    },
    {
      "cell_type": "markdown",
      "source": [
        "***KNN Classifer***"
      ],
      "metadata": {
        "id": "2XIC8Tv4HnHO"
      }
    },
    {
      "cell_type": "code",
      "source": [
        "from sklearn.neighbors import KNeighborsClassifier\n",
        "knn = KNeighborsClassifier()\n",
        "knn.fit(x_train, y_train)\n",
        "y_pred = knn.predict(x_test)\n",
        "print(\"Accuracy Score : \", round(accuracy_score(y_test,y_pred)*100,2),'%')"
      ],
      "metadata": {
        "colab": {
          "base_uri": "https://localhost:8080/"
        },
        "id": "MXRaMdKnFv7f",
        "outputId": "28bde089-390c-45c3-d5c1-e2eec8c9b35b"
      },
      "execution_count": null,
      "outputs": [
        {
          "output_type": "stream",
          "name": "stdout",
          "text": [
            "Accuracy Score :  67.66 %\n"
          ]
        }
      ]
    },
    {
      "cell_type": "markdown",
      "source": [
        "***SVC Classifier***"
      ],
      "metadata": {
        "id": "Lvnx18DcHrUd"
      }
    },
    {
      "cell_type": "code",
      "source": [
        "from sklearn.svm import SVC\n",
        "svc = SVC()\n",
        "svc.fit(x_train, y_train)\n",
        "y_pred = svc.predict(x_test)\n",
        "print(\"Accuracy Score : \", round(accuracy_score(y_test,y_pred)*100,2),'%')"
      ],
      "metadata": {
        "id": "cP7zWQgXF3sn"
      },
      "execution_count": null,
      "outputs": []
    },
    {
      "cell_type": "code",
      "source": [
        "from sklearn.ensemble import VotingClassifier\n",
        "\n",
        "from sklearn.linear_model import LogisticRegression\n",
        "\n",
        "from sklearn.naive_bayes import GaussianNB\n",
        "\n",
        "from sklearn.ensemble import RandomForestClassifier\n",
        "\n",
        "from sklearn.model_selection import cross_val_score\n",
        "\n",
        "\n",
        "model_1 = LogisticRegression()\n",
        "\n",
        "model_1.fit(x_train, y_train)\n",
        "\n",
        "ypred = model_1.predict(x_test)\n",
        "\n",
        "\n",
        "model_2 = GaussianNB()\n",
        "\n",
        "model_2.fit(x_train, y_train)\n",
        "\n",
        "ypred = model_2.predict(x_test)\n",
        "\n",
        "\n",
        "model_3 = RandomForestClassifier()\n",
        "\n",
        "model_3.fit(x_train, y_train)\n",
        "\n",
        "ypred = model_3.predict(x_test)\n",
        "\n",
        "\n",
        "eclf = VotingClassifier(\n",
        "\n",
        " estimators=[('lr', model_1), ('rf', model_2), ('gnb', model_3)],\n",
        "\n",
        " voting='hard'\n",
        "\n",
        ")\n",
        "\n",
        "\n",
        "for clf, label in zip([model_1, model_2, model_3, eclf], ['Logistic Regression', 'Naive Bayes', 'Random Forest', 'Ensemble']):\n",
        "\n",
        " scores = cross_val_score(clf, X, y, scoring='accuracy', cv=5)\n",
        "\n",
        " print(\"Accuracy: %0.2f (+/- %0.2f) [%s]\" % (scores.mean(), scores.std(), label))"
      ],
      "metadata": {
        "id": "ionVFfTqF_hV"
      },
      "execution_count": null,
      "outputs": []
    }
  ]
}