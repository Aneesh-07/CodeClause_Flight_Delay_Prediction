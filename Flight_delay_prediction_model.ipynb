{
  "cells": [
    {
      "cell_type": "markdown",
      "metadata": {
        "id": "KZvQD6MoQ8K_"
      },
      "source": [
        "## **Task 1 - Flight Delay Prediction Model**\n",
        "\n",
        "````\n",
        "Flight delay prediction model is a trained machine learning model which predict that the flight you what to know will be delayed or not based \n",
        "on past data of flights . In this script we wil first process our data in accordance to our model and to get insights on how flights were \n",
        "delayed and various other factors and then train various machine learning classification model such as logistic regression, tree classifier,\n",
        " random forest classifier to gain best results.\n",
        "````\n",
        "Dataset used is [Airlines_delay](https://www.kaggle.com/datasets/ulrikthygepedersen/airlines-delay)\n",
        "\n"
      ]
    },
    {
      "cell_type": "markdown",
      "metadata": {
        "id": "iWiGpGcdXY_m"
      },
      "source": [
        "Some important libraries"
      ]
    },
    {
      "cell_type": "code",
      "execution_count": 1,
      "metadata": {
        "id": "gnHlczApXmmB"
      },
      "outputs": [],
      "source": [
        "import numpy as np\n",
        "import pandas as pd\n",
        "import matplotlib.pyplot as plt\n",
        "import seaborn as sns\n",
        "\n",
        "# for pre processing data\n",
        "from sklearn.preprocessing import LabelEncoder\n",
        "from sklearn.utils import resample\n",
        "import scipy.stats as stats\n",
        "\n",
        "# for statistical analysis\n",
        "from sklearn.model_selection import train_test_split\n",
        "from sklearn.metrics import accuracy_score,f1_score,precision_score,recall_score\n",
        "from sklearn.model_selection import cross_val_score\n",
        "\n",
        "# for various classification\n",
        "from sklearn.linear_model import LogisticRegression\n",
        "from sklearn.tree import DecisionTreeClassifier\n",
        "from sklearn.ensemble import RandomForestClassifier, AdaBoostClassifier, VotingClassifier\n",
        "from sklearn.naive_bayes import GaussianNB\n",
        "from sklearn.neighbors import KNeighborsClassifier"
      ]
    },
    {
      "cell_type": "code",
      "execution_count": 2,
      "metadata": {
        "colab": {
          "base_uri": "https://localhost:8080/"
        },
        "id": "2RL5fhdpX-K_",
        "outputId": "e6227927-16df-4e72-ffe2-9d18782536b0"
      },
      "outputs": [
        {
          "data": {
            "text/plain": [
              "(539382, 8)"
            ]
          },
          "execution_count": 2,
          "metadata": {},
          "output_type": "execute_result"
        }
      ],
      "source": [
        "# importing dataset\n",
        "flight_data = pd.read_csv('./airlines_delay.csv')\n",
        "flight_data.shape"
      ]
    },
    {
      "cell_type": "markdown",
      "metadata": {
        "id": "gEnj1ml7YdTk"
      },
      "source": [
        "Exploratory Data Analysis-(EDA)"
      ]
    },
    {
      "cell_type": "code",
      "execution_count": null,
      "metadata": {
        "colab": {
          "base_uri": "https://localhost:8080/",
          "height": 206
        },
        "id": "9_eEDskaYkUN",
        "outputId": "37539d11-3be3-414e-cd45-87d5c8dfe0a2"
      },
      "outputs": [],
      "source": [
        "flight_data.head()"
      ]
    },
    {
      "cell_type": "code",
      "execution_count": null,
      "metadata": {
        "colab": {
          "base_uri": "https://localhost:8080/"
        },
        "id": "ffIdw7VyYocN",
        "outputId": "00a7e6da-824a-448f-ebc3-d40472b0a5af"
      },
      "outputs": [],
      "source": [
        "#checking for any null values in our data\n",
        "flight_data.isnull().sum()"
      ]
    },
    {
      "cell_type": "code",
      "execution_count": null,
      "metadata": {
        "id": "NTg7GsRKZJec"
      },
      "outputs": [],
      "source": [
        "# Gaining various information for our data"
      ]
    },
    {
      "cell_type": "code",
      "execution_count": null,
      "metadata": {
        "colab": {
          "base_uri": "https://localhost:8080/"
        },
        "id": "tgKKanKBZk8b",
        "outputId": "5c3cf17a-0fc7-4cde-835d-d973b858446a"
      },
      "outputs": [],
      "source": [
        "flight_data.columns"
      ]
    },
    {
      "cell_type": "code",
      "execution_count": null,
      "metadata": {
        "colab": {
          "base_uri": "https://localhost:8080/"
        },
        "id": "XggDjHpwZsr7",
        "outputId": "16c4e087-ad59-4da9-dec5-0a6c9b41ecce"
      },
      "outputs": [],
      "source": [
        "flight_data.info()"
      ]
    },
    {
      "cell_type": "code",
      "execution_count": null,
      "metadata": {
        "colab": {
          "base_uri": "https://localhost:8080/",
          "height": 300
        },
        "id": "C3LMqU8XZwUn",
        "outputId": "7f6d2edf-f69b-43cb-c7bd-1f58f4505fb8"
      },
      "outputs": [],
      "source": [
        "flight_data.describe()"
      ]
    },
    {
      "cell_type": "markdown",
      "metadata": {
        "id": "IJ4gblWHaARv"
      },
      "source": [
        "Visulization of our data to get insights"
      ]
    },
    {
      "cell_type": "code",
      "execution_count": null,
      "metadata": {
        "colab": {
          "base_uri": "https://localhost:8080/",
          "height": 466
        },
        "id": "OYj0hdzlaGpn",
        "outputId": "c4cb88af-dff1-4142-a52e-3cfdb4dd62f9"
      },
      "outputs": [],
      "source": [
        "sns.countplot(x = 'Airline', hue = 'Class', data = flight_data)"
      ]
    },
    {
      "cell_type": "code",
      "execution_count": null,
      "metadata": {
        "colab": {
          "base_uri": "https://localhost:8080/",
          "height": 466
        },
        "id": "IarFswm7aTZb",
        "outputId": "8d7f3139-fcb2-4a03-b2c3-b1f0ee1dc7c3"
      },
      "outputs": [],
      "source": [
        "sns.barplot(x = 'Airline',y='Length', data = flight_data)"
      ]
    },
    {
      "cell_type": "code",
      "execution_count": null,
      "metadata": {
        "colab": {
          "base_uri": "https://localhost:8080/",
          "height": 466
        },
        "id": "trUO_HtEaiIV",
        "outputId": "d76edb8a-b73d-4707-a71b-c362932f7f66"
      },
      "outputs": [],
      "source": [
        "sns.barplot(x = 'Airline', y = 'Time', data = flight_data)"
      ]
    },
    {
      "cell_type": "markdown",
      "metadata": {
        "id": "ccLNjOfra_MW"
      },
      "source": [
        "*From above illuistration we get insights on data such as:\n",
        "WN is highest delay than other airliness,\n",
        "CO and UA have longest average flight time,\n",
        "Almost all of the flight have same departure*"
      ]
    },
    {
      "cell_type": "markdown",
      "metadata": {
        "id": "aS02NVTDxML9"
      },
      "source": [
        "Preprocessing of our given data"
      ]
    },
    {
      "cell_type": "code",
      "execution_count": 3,
      "metadata": {
        "colab": {
          "base_uri": "https://localhost:8080/",
          "height": 206
        },
        "id": "COtRiMcfxR63",
        "outputId": "12bb83ce-2e3f-454b-f815-a7bef1829846"
      },
      "outputs": [
        {
          "data": {
            "text/html": [
              "<div>\n",
              "<style scoped>\n",
              "    .dataframe tbody tr th:only-of-type {\n",
              "        vertical-align: middle;\n",
              "    }\n",
              "\n",
              "    .dataframe tbody tr th {\n",
              "        vertical-align: top;\n",
              "    }\n",
              "\n",
              "    .dataframe thead th {\n",
              "        text-align: right;\n",
              "    }\n",
              "</style>\n",
              "<table border=\"1\" class=\"dataframe\">\n",
              "  <thead>\n",
              "    <tr style=\"text-align: right;\">\n",
              "      <th></th>\n",
              "      <th>Time</th>\n",
              "      <th>Length</th>\n",
              "      <th>Airline</th>\n",
              "      <th>AirportFrom</th>\n",
              "      <th>AirportTo</th>\n",
              "      <th>DayOfWeek</th>\n",
              "      <th>Class</th>\n",
              "    </tr>\n",
              "  </thead>\n",
              "  <tbody>\n",
              "    <tr>\n",
              "      <th>0</th>\n",
              "      <td>1296.0</td>\n",
              "      <td>141.0</td>\n",
              "      <td>DL</td>\n",
              "      <td>ATL</td>\n",
              "      <td>HOU</td>\n",
              "      <td>1</td>\n",
              "      <td>0</td>\n",
              "    </tr>\n",
              "    <tr>\n",
              "      <th>1</th>\n",
              "      <td>360.0</td>\n",
              "      <td>146.0</td>\n",
              "      <td>OO</td>\n",
              "      <td>COS</td>\n",
              "      <td>ORD</td>\n",
              "      <td>4</td>\n",
              "      <td>0</td>\n",
              "    </tr>\n",
              "    <tr>\n",
              "      <th>2</th>\n",
              "      <td>1170.0</td>\n",
              "      <td>143.0</td>\n",
              "      <td>B6</td>\n",
              "      <td>BOS</td>\n",
              "      <td>CLT</td>\n",
              "      <td>3</td>\n",
              "      <td>0</td>\n",
              "    </tr>\n",
              "    <tr>\n",
              "      <th>3</th>\n",
              "      <td>1410.0</td>\n",
              "      <td>344.0</td>\n",
              "      <td>US</td>\n",
              "      <td>OGG</td>\n",
              "      <td>PHX</td>\n",
              "      <td>6</td>\n",
              "      <td>0</td>\n",
              "    </tr>\n",
              "    <tr>\n",
              "      <th>4</th>\n",
              "      <td>692.0</td>\n",
              "      <td>98.0</td>\n",
              "      <td>FL</td>\n",
              "      <td>BMI</td>\n",
              "      <td>ATL</td>\n",
              "      <td>4</td>\n",
              "      <td>0</td>\n",
              "    </tr>\n",
              "  </tbody>\n",
              "</table>\n",
              "</div>"
            ],
            "text/plain": [
              "     Time  Length Airline AirportFrom AirportTo  DayOfWeek  Class\n",
              "0  1296.0   141.0      DL         ATL       HOU          1      0\n",
              "1   360.0   146.0      OO         COS       ORD          4      0\n",
              "2  1170.0   143.0      B6         BOS       CLT          3      0\n",
              "3  1410.0   344.0      US         OGG       PHX          6      0\n",
              "4   692.0    98.0      FL         BMI       ATL          4      0"
            ]
          },
          "execution_count": 3,
          "metadata": {},
          "output_type": "execute_result"
        }
      ],
      "source": [
        "#removing un required data in our model\n",
        "flight_data = flight_data.drop('Flight', axis =1)\n",
        "flight_data.head()"
      ]
    },
    {
      "cell_type": "code",
      "execution_count": 4,
      "metadata": {
        "colab": {
          "base_uri": "https://localhost:8080/"
        },
        "id": "flOUtF6rzTua",
        "outputId": "da2d14e8-674c-4b82-cd2f-0b7cc7f60d7d"
      },
      "outputs": [
        {
          "name": "stdout",
          "output_type": "stream",
          "text": [
            "Time           float64\n",
            "Length         float64\n",
            "Airline         object\n",
            "AirportFrom     object\n",
            "AirportTo       object\n",
            "DayOfWeek        int64\n",
            "Class            int64\n",
            "dtype: object\n"
          ]
        }
      ],
      "source": [
        "print(flight_data.dtypes)"
      ]
    },
    {
      "cell_type": "markdown",
      "metadata": {
        "id": "EMXBlpemziqt"
      },
      "source": [
        "Encoding of various data to make all data in int form for our models"
      ]
    },
    {
      "cell_type": "code",
      "execution_count": 5,
      "metadata": {
        "colab": {
          "base_uri": "https://localhost:8080/"
        },
        "id": "blk18_HZznr_",
        "outputId": "32a1a6a1-8993-4959-a033-caec5000cccf"
      },
      "outputs": [
        {
          "data": {
            "text/plain": [
              "array(['DL', 'OO', 'B6', 'US', 'FL', 'WN', 'CO', 'AA', 'YV', 'EV', 'XE',\n",
              "       '9E', 'OH', 'UA', 'MQ', 'AS', 'F9', 'HA'], dtype=object)"
            ]
          },
          "execution_count": 5,
          "metadata": {},
          "output_type": "execute_result"
        }
      ],
      "source": [
        "#taking unique values of Airline and encode them\n",
        "airline = flight_data['Airline'].unique()\n",
        "airline\n",
        "\n"
      ]
    },
    {
      "cell_type": "code",
      "execution_count": 8,
      "metadata": {},
      "outputs": [],
      "source": [
        "encoder = LabelEncoder()"
      ]
    },
    {
      "cell_type": "code",
      "execution_count": 8,
      "metadata": {
        "colab": {
          "base_uri": "https://localhost:8080/"
        },
        "id": "L5-Vz8bHz8VU",
        "outputId": "4108b93d-1c5f-4037-8b2c-2070c398e03c"
      },
      "outputs": [
        {
          "data": {
            "text/plain": [
              "array([ 5, 12,  3, 14,  8, 15,  4,  1, 17,  6, 16,  0, 11, 13, 10,  2,  7,\n",
              "        9])"
            ]
          },
          "execution_count": 8,
          "metadata": {},
          "output_type": "execute_result"
        }
      ],
      "source": [
        "\n",
        "\n",
        "flight_data['Airline'] = encoder.fit_transform(flight_data['Airline'])\n",
        "airline_encoded = flight_data['Airline'].unique()\n",
        "airline_dict = {airline[i]:airline_encoded[i] for i in range(len(airline))} \n",
        "\n",
        "# making dictionary for User input encodes\n",
        "airline_codes = open('air_code.txt','wt')\n",
        "airline_codes.write(str(airline_dict))\n",
        "airline_codes.close()\n",
        "flight_data['Airline'].unique()\n",
        "\n",
        "\n"
      ]
    },
    {
      "cell_type": "code",
      "execution_count": 9,
      "metadata": {
        "colab": {
          "base_uri": "https://localhost:8080/"
        },
        "id": "2stUCaH00V5i",
        "outputId": "8c4db4cc-89ae-4f51-cc4b-87140a5f2ecd"
      },
      "outputs": [
        {
          "data": {
            "text/plain": [
              "array(['ATL', 'COS', 'BOS', 'OGG', 'BMI', 'MSY', 'EWR', 'DFW', 'BWI',\n",
              "       'CRW', 'LGB', 'BIS', 'CLT', 'IAH', 'LAX', 'JAX', 'SAV', 'CLE',\n",
              "       'FLL', 'SAN', 'BHM', 'ROC', 'DTW', 'STT', 'AUS', 'DCA', 'PHX',\n",
              "       'EYW', 'IND', 'JFK', 'ORD', 'PBI', 'SFO', 'MIA', 'DSM', 'SLC',\n",
              "       'PHL', 'BZN', 'GRB', 'MBS', 'SBA', 'TYS', 'MSP', 'DEN', 'SAT',\n",
              "       'BUF', 'RIC', 'SEA', 'PDX', 'LAS', 'IAD', 'HNL', 'BDL', 'MOT',\n",
              "       'PSE', 'CPR', 'SNA', 'STL', 'CVG', 'PIT', 'HSV', 'SGF', 'RDU',\n",
              "       'MEM', 'KOA', 'ELP', 'SJU', 'JAN', 'AEX', 'LGA', 'RSW', 'MDT',\n",
              "       'GUC', 'MKE', 'CAE', 'GRR', 'FAR', 'LIT', 'OMA', 'BNA', 'EVV',\n",
              "       'RDD', 'OKC', 'ITO', 'SJC', 'MCO', 'LBB', 'CSG', 'OAK', 'PHF',\n",
              "       'ABQ', 'SMF', 'FAY', 'ABI', 'MSO', 'MFE', 'GEG', 'MSN', 'TPA',\n",
              "       'DAY', 'RNO', 'PVD', 'ALB', 'CHO', 'ONT', 'LIH', 'PSP', 'LAN',\n",
              "       'LEX', 'XNA', 'GJT', 'CMH', 'GSO', 'PSC', 'SYR', 'AVL', 'MHT',\n",
              "       'GRK', 'MCI', 'TXK', 'LRD', 'ABE', 'LWB', 'ERI', 'DAL', 'ANC',\n",
              "       'TUS', 'ROA', 'MOD', 'JNU', 'SBP', 'CDV', 'TUL', 'FSD', 'FNT',\n",
              "       'BTV', 'FCA', 'GNV', 'RAP', 'MDW', 'FWA', 'BUR', 'PNS', 'RST',\n",
              "       'HOU', 'BOI', 'CRP', 'BRO', 'ATW', 'SHV', 'SMX', 'RDM', 'ORF',\n",
              "       'GPT', 'KTN', 'ICT', 'SAF', 'CAK', 'IDA', 'MQT', 'VPS', 'CHS',\n",
              "       'MAF', 'HPN', 'AVP', 'AZO', 'TRI', 'GSP', 'HDN', 'MLU', 'EUG',\n",
              "       'AMA', 'MHK', 'ISP', 'CID', 'MOB', 'BGR', 'SRQ', 'MLI', 'EKO',\n",
              "       'LFT', 'TOL', 'ECP', 'PSG', 'SBN', 'FAT', 'ELM', 'YUM', 'CLD',\n",
              "       'FAI', 'ASE', 'BTR', 'BQK', 'COU', 'MRY', 'CEC', 'CWA', 'PWM',\n",
              "       'FLG', 'TLH', 'SDF', 'BFL', 'CHA', 'ACV', 'MGM', 'ROW', 'GTR',\n",
              "       'EWN', 'ILM', 'OTZ', 'SGU', 'OTH', 'CMX', 'SWF', 'BET', 'GTF',\n",
              "       'CMI', 'MFR', 'JAC', 'DLH', 'ABY', 'MTJ', 'SCC', 'DRO', 'TEX',\n",
              "       'FSM', 'COD', 'GGG', 'DBQ', 'GFK', 'BKG', 'AGS', 'BTM', 'DHN',\n",
              "       'TYR', 'EGE', 'PIH', 'VLD', 'MEI', 'SIT', 'MLB', 'PAH', 'YAK',\n",
              "       'DAB', 'HLN', 'PIA', 'SPI', 'GCC', 'IPL', 'TVC', 'OAJ', 'EAU',\n",
              "       'BGM', 'MYR', 'HRL', 'MKG', 'SUN', 'LSE', 'CIC', 'OME', 'ITH',\n",
              "       'LNK', 'BIL', 'CYS', 'LCH', 'BQN', 'WRG', 'BRW', 'SPS', 'RKS',\n",
              "       'TWF', 'LMT', 'ACT', 'PLN', 'ACY', 'ADK', 'SJT', 'IYK', 'LWS',\n",
              "       'BLI', 'SCE', 'MMH', 'LYH', 'GUM', 'CDC', 'ADQ', 'HTS', 'PIE',\n",
              "       'STX', 'FLO', 'UTM', 'CLL', 'ABR'], dtype=object)"
            ]
          },
          "execution_count": 9,
          "metadata": {},
          "output_type": "execute_result"
        }
      ],
      "source": [
        "# taking unique values of AirportFrom and encode them\n",
        "air_from = flight_data['AirportFrom'].unique()\n",
        "air_from"
      ]
    },
    {
      "cell_type": "code",
      "execution_count": 10,
      "metadata": {
        "colab": {
          "base_uri": "https://localhost:8080/"
        },
        "id": "N4dqO0LI0nLc",
        "outputId": "cadbe54d-17e5-4ff7-a6eb-d1b798186fba"
      },
      "outputs": [
        {
          "data": {
            "text/plain": [
              "array([ 16,  65,  35, 203,  32, 198,  96,  80,  45,  69, 160,  29,  60,\n",
              "       135, 154, 147, 245,  58, 104, 243,  27, 238,  85, 269,  18,  78,\n",
              "       217,  97, 139, 148, 208, 213, 253, 183,  84, 261, 216,  46, 117,\n",
              "       171, 246, 285, 197,  79, 244,  43, 234, 252, 214, 153, 134, 128,\n",
              "        22, 192, 225,  67, 264, 268,  71, 221, 132, 254, 233, 177, 150,\n",
              "        91, 260, 146,  10, 159, 241, 174, 124, 184,  47, 119,  99, 162,\n",
              "       205,  33,  94, 231, 204, 143, 258, 173, 155,  70, 202, 215,   2,\n",
              "       262, 101,   1, 196, 178, 111, 195, 277,  76, 236, 228,  12,  53,\n",
              "       207, 161, 227, 152, 157, 290, 114,  61, 120, 224, 273,  19, 182,\n",
              "       118, 172, 283, 165,   0, 167,  92,  75,  14, 280, 237, 191, 149,\n",
              "       248,  50, 279, 107, 106,  42, 102, 115, 230, 175, 109,  44, 223,\n",
              "       240, 129,  34,  68,  38,  17, 256, 263, 232, 209, 116, 151, 136,\n",
              "       242,  48, 137, 193, 288,  54, 170, 130,  20,  21, 278, 121, 126,\n",
              "       188,  93,  13, 181, 141,  56, 190,  26, 267, 187,  89, 158, 276,\n",
              "        87, 226, 247, 100,  90, 292,  57,  98,  15,  41,  36,  66, 194,\n",
              "        51,  72, 229, 103, 275, 251,  24,  52,   6, 180, 239, 123,  95,\n",
              "       138, 211, 255, 210,  63, 272,  23, 122,  62, 179, 145,  82,   4,\n",
              "       199, 249,  83, 274, 108,  64, 113,  77, 112,  30,  11,  40,  81,\n",
              "       284,  88, 220, 287, 176, 257, 186, 212, 291,  74, 127, 218, 265,\n",
              "       110, 140, 281, 201,  86,  25, 200, 131, 185, 271, 166,  55, 206,\n",
              "       142, 164,  28,  73, 156,  37, 289,  39, 266, 235, 282, 163,   5,\n",
              "       222,   7,   8, 259, 144, 168,  31, 250, 189, 169, 125,  49,   9,\n",
              "       133, 219, 270, 105, 286,  59,   3])"
            ]
          },
          "execution_count": 10,
          "metadata": {},
          "output_type": "execute_result"
        }
      ],
      "source": [
        "flight_data['AirportFrom'] = encoder.fit_transform(flight_data['AirportFrom'])\n",
        "air_from_encoded = flight_data['AirportFrom'].unique()\n",
        "air_from_dict = {air_from[i]:air_from_encoded[i] for i in range(len(air_from))} \n",
        "# for user input encodes\n",
        "airfrom_codes = open('airfrom_code.txt','wt')\n",
        "airfrom_codes.write(str(air_from_dict))\n",
        "airfrom_codes.close() \n",
        "\n",
        "flight_data['AirportFrom'].unique()"
      ]
    },
    {
      "cell_type": "code",
      "execution_count": 6,
      "metadata": {
        "colab": {
          "base_uri": "https://localhost:8080/"
        },
        "id": "jFdPY5U71FnK",
        "outputId": "91755b1f-494f-4556-8d2f-9ac069b002b8"
      },
      "outputs": [
        {
          "data": {
            "text/plain": [
              "array(['HOU', 'ORD', 'CLT', 'PHX', 'ATL', 'BHM', 'DFW', 'MEM', 'GRR',\n",
              "       'PBI', 'MCO', 'SFO', 'DEN', 'YUM', 'BWI', 'HPN', 'EWR', 'JFK',\n",
              "       'MKE', 'OAK', 'IAH', 'CLE', 'SYR', 'SJU', 'BDL', 'SAN', 'DTW',\n",
              "       'PSP', 'DCA', 'LGA', 'STL', 'FAY', 'MSP', 'BUF', 'LAS', 'SGU',\n",
              "       'SLC', 'GJT', 'LAX', 'VPS', 'FAR', 'RKS', 'BOS', 'ANC', 'SNA',\n",
              "       'ONT', 'RNO', 'JAX', 'GSP', 'CVG', 'TPA', 'SEA', 'LEX', 'SMF',\n",
              "       'CAE', 'STT', 'DAY', 'MDW', 'RSW', 'ITO', 'IAD', 'ICT', 'HNL',\n",
              "       'MIA', 'CRW', 'RDU', 'MHT', 'FAT', 'CAK', 'COS', 'DAL', 'TYS',\n",
              "       'PHL', 'ABI', 'MOB', 'SDF', 'SAV', 'MDT', 'LIT', 'TUL', 'ACV',\n",
              "       'BNA', 'MCI', 'MSY', 'FLL', 'PVD', 'OKC', 'ECP', 'PHF', 'AUS',\n",
              "       'RIC', 'LIH', 'ABQ', 'JAN', 'PIT', 'BMI', 'BTV', 'RAP', 'MRY',\n",
              "       'CSG', 'SHV', 'FAI', 'SJC', 'PIA', 'SBN', 'IND', 'SGF', 'ACT',\n",
              "       'SRQ', 'ROC', 'CHO', 'JAC', 'SAT', 'FWA', 'OMA', 'PDX', 'CMH',\n",
              "       'PWM', 'CID', 'TRI', 'ORF', 'GTF', 'TUS', 'MHK', 'BUR', 'MLU',\n",
              "       'CEC', 'TEX', 'MBS', 'DSM', 'HRL', 'LFT', 'ELP', 'AEX', 'CPR',\n",
              "       'LBB', 'MYR', 'ALB', 'COU', 'LSE', 'CHA', 'MLI', 'GEG', 'AZO',\n",
              "       'MFR', 'BTR', 'FLG', 'KTN', 'PSC', 'GSO', 'OGG', 'MSN', 'GPT',\n",
              "       'PNS', 'RDM', 'BZN', 'DLH', 'CRP', 'TXK', 'KOA', 'MQT', 'MAF',\n",
              "       'TLH', 'XNA', 'CWA', 'SBP', 'BFL', 'DRO', 'WRG', 'DHN', 'SPS',\n",
              "       'AMA', 'EGE', 'BET', 'FCA', 'EUG', 'EVV', 'AVL', 'HSV', 'PIE',\n",
              "       'MLB', 'SWF', 'ASE', 'BGM', 'MSO', 'ADK', 'GRK', 'SUN', 'SBA',\n",
              "       'LGB', 'CHS', 'GNV', 'MOT', 'LAN', 'LNK', 'OME', 'OTH', 'ISP',\n",
              "       'FNT', 'EAU', 'ILM', 'BRW', 'LCH', 'IYK', 'MKG', 'HDN', 'BRO',\n",
              "       'GRB', 'FSD', 'LRD', 'RDD', 'SPI', 'ROA', 'IPL', 'EYW', 'SAF',\n",
              "       'LWS', 'AGS', 'CMX', 'ATW', 'MGM', 'GGG', 'BOI', 'FLO', 'COD',\n",
              "       'ACY', 'CMI', 'JNU', 'AVP', 'ERI', 'TYR', 'DAB', 'TVC', 'FSM',\n",
              "       'IDA', 'MFE', 'EKO', 'ABE', 'PAH', 'LMT', 'YAK', 'HLN', 'MMH',\n",
              "       'ITH', 'LYH', 'BIL', 'EWN', 'SMX', 'MEI', 'OAJ', 'SCE', 'CLD',\n",
              "       'BIS', 'GFK', 'MTJ', 'BQN', 'BQK', 'GTR', 'CDV', 'BKG', 'PIH',\n",
              "       'ROW', 'PLN', 'TWF', 'ELM', 'GCC', 'CYS', 'CDC', 'ABY', 'VLD',\n",
              "       'MOD', 'STX', 'OTZ', 'HTS', 'BTM', 'PSE', 'SCC', 'RST', 'DBQ',\n",
              "       'ADQ', 'PSG', 'SIT', 'GUC', 'LWB', 'BGR', 'CIC', 'GUM', 'UTM',\n",
              "       'CLL', 'TOL', 'SJT', 'BLI', 'ABR'], dtype=object)"
            ]
          },
          "execution_count": 6,
          "metadata": {},
          "output_type": "execute_result"
        }
      ],
      "source": [
        "# taking unique values of Airport and encode them\n",
        "air_to = flight_data['AirportTo'].unique()\n",
        "air_to"
      ]
    },
    {
      "cell_type": "code",
      "execution_count": 9,
      "metadata": {
        "colab": {
          "base_uri": "https://localhost:8080/"
        },
        "id": "z3G3qCgw1jCA",
        "outputId": "09cc78c9-fba5-4575-d8d1-ba9389bdf3ba"
      },
      "outputs": [
        {
          "data": {
            "text/plain": [
              "array([129, 208,  60, 217,  16,  27,  80, 177, 119, 213, 173, 253,  79,\n",
              "       292,  45, 130,  96, 148, 184, 202, 135,  58, 273, 260,  22, 243,\n",
              "        85, 227,  78, 159, 268, 101, 197,  43, 153, 255, 261, 114, 154,\n",
              "       288,  99, 235,  35,  14, 264, 207, 236, 147, 121,  71, 277, 252,\n",
              "       157, 262,  47, 269,  76, 175, 241, 143, 134, 136, 128, 183,  69,\n",
              "       233, 182, 100,  48,  65,  75, 285, 216,   1, 190, 251, 245, 174,\n",
              "       162, 279,   6,  33, 172, 198, 104, 228, 204,  87, 215,  18, 234,\n",
              "       161,   2, 146, 221,  32,  42, 230, 194,  70, 256,  98, 258, 218,\n",
              "       247, 139, 254,   5, 267, 238,  53, 145, 244, 109, 205, 214,  61,\n",
              "       229,  56, 278, 209, 122, 280, 181,  44, 188,  51, 274, 171,  84,\n",
              "       131, 158,  91,  10,  67, 155, 200,  12,  66, 166,  52, 187, 111,\n",
              "        21, 179,  41, 103, 151, 224, 120, 203, 195, 116, 223, 232,  46,\n",
              "        82,  68, 283, 150, 193, 170, 275, 290,  72, 248,  24,  83, 289,\n",
              "        81, 266,  13,  88,  23, 102,  93,  94,  19, 132, 219, 186, 272,\n",
              "        15,  25, 196,   8, 118, 271, 246, 160,  54, 115, 192, 152, 164,\n",
              "       206, 210, 141, 106,  86, 138,  39, 156, 144, 185, 126,  38, 117,\n",
              "       107, 165, 231, 265, 237, 140,  97, 242, 168,  11,  63,  17, 180,\n",
              "       113,  34, 105,  64,   7,  62, 149,  20,  92, 284,  74, 281, 108,\n",
              "       137, 178,  89,   0, 212, 163, 291, 127, 189, 142, 169,  28,  95,\n",
              "       263, 176, 201, 250,  57,  29, 112, 199,  37,  36, 123,  50,  30,\n",
              "       220, 239, 222, 282,  90, 110,  73,  49,   4, 287, 191, 270, 211,\n",
              "       133,  40, 225, 249, 240,  77,   9, 226, 257, 124, 167,  26,  55,\n",
              "       125, 286,  59, 276, 259,  31,   3])"
            ]
          },
          "execution_count": 9,
          "metadata": {},
          "output_type": "execute_result"
        }
      ],
      "source": [
        "flight_data['AirportTo'] = encoder.fit_transform(flight_data['AirportTo'])\n",
        "air_to_encoded = flight_data['AirportTo'].unique()\n",
        "air_to_dict = {air_to[i]:air_to_encoded[i] for i in range(len(air_to))}\n",
        "\n",
        "airto_codes = open('airto_code.txt','wt')\n",
        "airto_codes.write(str(air_to_dict))\n",
        "airto_codes.close()\n",
        "flight_data['AirportTo'].unique()"
      ]
    },
    {
      "cell_type": "code",
      "execution_count": null,
      "metadata": {
        "colab": {
          "base_uri": "https://localhost:8080/"
        },
        "id": "xT4AO1xz1sIw",
        "outputId": "d7b79fc8-6c25-4cec-f5f5-926af0c9bec8"
      },
      "outputs": [],
      "source": [
        "flight_data.dtypes"
      ]
    },
    {
      "cell_type": "markdown",
      "metadata": {
        "id": "Ppnz5r9857Bg"
      },
      "source": [
        "### ReSampling Our Train Data"
      ]
    },
    {
      "cell_type": "code",
      "execution_count": null,
      "metadata": {
        "colab": {
          "base_uri": "https://localhost:8080/",
          "height": 501
        },
        "id": "feVqTAs18nZQ",
        "outputId": "bfee459b-c93c-4abb-9363-edb8bc49723c"
      },
      "outputs": [],
      "source": [
        "sns.countplot(x='Class',data = flight_data)\n",
        "flight_data['Class'].value_counts()"
      ]
    },
    {
      "cell_type": "code",
      "execution_count": null,
      "metadata": {
        "id": "N1C_Xyau83-j"
      },
      "outputs": [],
      "source": [
        "# Dividing data into majority and minority\n",
        "flight_major = flight_data[(flight_data['Class']==0)]\n",
        "flight_minor = flight_data[(flight_data['Class']==1)]\n",
        "# Umsampling minor data\n",
        "\n",
        "flight_minor_upsample = resample(flight_minor,replace = True ,n_samples = len(flight_major),random_state = 0)\n",
        "\n",
        "# combining both data\n",
        "\n",
        "flight_upsampled = pd.concat([flight_minor_upsample, flight_major])"
      ]
    },
    {
      "cell_type": "code",
      "execution_count": null,
      "metadata": {
        "colab": {
          "base_uri": "https://localhost:8080/",
          "height": 501
        },
        "id": "AnnwAoej9Gia",
        "outputId": "2c002262-2743-4410-bc51-9489b9a54f49"
      },
      "outputs": [],
      "source": [
        "sns.countplot(x='Class',data = flight_upsampled)\n",
        "flight_upsampled['Class'].value_counts()"
      ]
    },
    {
      "cell_type": "markdown",
      "metadata": {
        "id": "pOqistzg_eJW"
      },
      "source": [
        "Removing Outliers from our data"
      ]
    },
    {
      "cell_type": "code",
      "execution_count": null,
      "metadata": {
        "colab": {
          "base_uri": "https://localhost:8080/"
        },
        "id": "KF_4xgc8_hTf",
        "outputId": "b2d9ff47-7b80-44c8-a421-c478a394d6f8"
      },
      "outputs": [],
      "source": [
        "z= np.abs(stats.zscore(flight_upsampled))\n",
        "final_train = flight_upsampled[(z<3).all(axis=1)]\n",
        "final_train.shape"
      ]
    },
    {
      "cell_type": "markdown",
      "metadata": {
        "id": "Tbd1LHHf_7x5"
      },
      "source": [
        "Attribute Correlation"
      ]
    },
    {
      "cell_type": "code",
      "execution_count": null,
      "metadata": {
        "colab": {
          "base_uri": "https://localhost:8080/",
          "height": 521
        },
        "id": "QIVUdXrV_-Y0",
        "outputId": "5b1b5ddc-b6d1-4cef-ae80-7ce4da17727c"
      },
      "outputs": [],
      "source": [
        "sns.heatmap(final_train.corr(), fmt = '.2g')"
      ]
    },
    {
      "cell_type": "markdown",
      "metadata": {
        "id": "pJr1D2h4eJki"
      },
      "source": [
        "Splitting data into train and test data"
      ]
    },
    {
      "cell_type": "code",
      "execution_count": null,
      "metadata": {
        "id": "Zn6YIrzMAgbf"
      },
      "outputs": [],
      "source": [
        "#dividing data into dependent and undependent feature \n",
        "x = final_train.drop('Class', axis=1)\n",
        "y = final_train['Class']"
      ]
    },
    {
      "cell_type": "code",
      "execution_count": null,
      "metadata": {
        "id": "hDO-JjwXeS4K"
      },
      "outputs": [],
      "source": [
        "x_train,x_test,y_train,y_test=train_test_split(x,y, test_size=0.2, random_state=42)"
      ]
    },
    {
      "cell_type": "markdown",
      "metadata": {
        "id": "7C5Ku9oVBOy_"
      },
      "source": [
        "### Implementation of various models\n",
        "\n"
      ]
    },
    {
      "cell_type": "markdown",
      "metadata": {
        "id": "5sNn0OfABXN-"
      },
      "source": [
        "***Logistic Regression***"
      ]
    },
    {
      "cell_type": "code",
      "execution_count": null,
      "metadata": {
        "id": "hgGCn71QBVfG"
      },
      "outputs": [],
      "source": [
        "logistic_model = LogisticRegression()"
      ]
    },
    {
      "cell_type": "code",
      "execution_count": null,
      "metadata": {
        "colab": {
          "base_uri": "https://localhost:8080/",
          "height": 75
        },
        "id": "H9TZJVERBsHA",
        "outputId": "6c7c5067-afd4-481f-ea35-ba044302a3c3"
      },
      "outputs": [],
      "source": [
        "logistic_model.fit(x_train,y_train)"
      ]
    },
    {
      "cell_type": "code",
      "execution_count": null,
      "metadata": {
        "colab": {
          "base_uri": "https://localhost:8080/"
        },
        "id": "8v7-b3aeBykG",
        "outputId": "7d4315d9-f093-4e32-bed8-fdccb4536f3c"
      },
      "outputs": [],
      "source": [
        "log_pred =logistic_model.predict(x_test)\n",
        "print(\"Accuracy Score : \",round(accuracy_score(y_test,log_pred)*100,2),'%')"
      ]
    },
    {
      "cell_type": "code",
      "execution_count": null,
      "metadata": {
        "colab": {
          "base_uri": "https://localhost:8080/"
        },
        "id": "4N7ngsU9CH9l",
        "outputId": "02b7ce91-a28d-445d-a100-722b184ff944"
      },
      "outputs": [],
      "source": [
        "print(\"F-1 Score : \",round(f1_score(y_test,log_pred)*100,2),'%')\n",
        "print(\"Precision Score : \",round(precision_score(y_test,log_pred)*100,2),'%')\n",
        "print(\"Recall Score : \",round(recall_score(y_test,log_pred)*100,2),'%')"
      ]
    },
    {
      "cell_type": "markdown",
      "metadata": {
        "id": "yKyM-Y3VC9ZK"
      },
      "source": [
        "***DECISION TREE CLASSIFIER***"
      ]
    },
    {
      "cell_type": "code",
      "execution_count": null,
      "metadata": {
        "colab": {
          "base_uri": "https://localhost:8080/"
        },
        "id": "NSJUj5BjDC-1",
        "outputId": "1c127578-6b1f-4a66-e006-435cfe333f8b"
      },
      "outputs": [],
      "source": [
        "dt_classifier= DecisionTreeClassifier()\n",
        "\n",
        "\n",
        "dt_classifier.fit(x_train,y_train)\n",
        "\n",
        "\n",
        "y_pred=dt_classifier.predict(x_test)\n",
        "print(\"Accuracy Score : \", round(accuracy_score(y_test,y_pred)*100,2),'%')"
      ]
    },
    {
      "cell_type": "code",
      "execution_count": null,
      "metadata": {
        "colab": {
          "base_uri": "https://localhost:8080/"
        },
        "id": "ZO20-IcJDG-w",
        "outputId": "af06abb8-4e38-431f-fc1f-1d11004d5a66"
      },
      "outputs": [],
      "source": [
        "print(\"F-1 Score : \",round(f1_score(y_test,y_pred)*100,2),'%')\n",
        "print(\"Precision Score : \",round(precision_score(y_test,y_pred)*100,2),'%')\n",
        "print(\"Recall Score : \",round(recall_score(y_test,y_pred)*100,2),'%')\n"
      ]
    },
    {
      "cell_type": "markdown",
      "metadata": {
        "id": "zeX8d6HlDOY8"
      },
      "source": [
        "***Random Forest Classifier***"
      ]
    },
    {
      "cell_type": "code",
      "execution_count": null,
      "metadata": {
        "colab": {
          "base_uri": "https://localhost:8080/"
        },
        "id": "2DA7xGvaDKr8",
        "outputId": "df60ae01-4e45-425e-acd0-de5c52fa79cb"
      },
      "outputs": [],
      "source": [
        "rf_classifier=RandomForestClassifier(random_state=0)\n",
        "\n",
        "\n",
        "rf_classifier.fit(x_train,y_train)\n",
        "\n",
        "\n",
        "rf_predict=rf_classifier.predict(x_test)\n",
        "print(\"Accuracy Score : \", round(accuracy_score(y_test,rf_predict)*100,2),'%')"
      ]
    },
    {
      "cell_type": "code",
      "execution_count": null,
      "metadata": {
        "colab": {
          "base_uri": "https://localhost:8080/"
        },
        "id": "G02wHSx1DUTw",
        "outputId": "40d83539-825b-475c-8dd2-5200919cef93"
      },
      "outputs": [],
      "source": [
        "print(\"F-1 Score : \",round(f1_score(y_test,rf_predict)*100,2),'%')\n",
        "print(\"Precision Score : \",round(precision_score(y_test,rf_predict)*100,2),'%')\n",
        "print(\"Recall Score : \",round(recall_score(y_test,rf_predict)*100,2),'%')"
      ]
    },
    {
      "cell_type": "markdown",
      "metadata": {
        "id": "-eTV5CI6Dq_N"
      },
      "source": [
        "***AdaBoost Classifier***"
      ]
    },
    {
      "cell_type": "code",
      "execution_count": null,
      "metadata": {
        "colab": {
          "base_uri": "https://localhost:8080/"
        },
        "id": "FWV1urYwDnw4",
        "outputId": "fd37021e-70e2-430d-e392-48b7f4d229e8"
      },
      "outputs": [],
      "source": [
        "ada_model= AdaBoostClassifier()\n",
        "ada_model.fit(x_train,y_train)\n",
        "ada_pred=ada_model.predict(x_test)\n",
        "print(\"Accuracy Score : \", round(accuracy_score(y_test,ada_pred)*100,2),'%')"
      ]
    },
    {
      "cell_type": "code",
      "execution_count": null,
      "metadata": {
        "colab": {
          "base_uri": "https://localhost:8080/"
        },
        "id": "GXdCrbZVD1sq",
        "outputId": "63f39979-7aa5-4326-e5ed-e76a673dd2b6"
      },
      "outputs": [],
      "source": [
        "print(\"F-1 Score : \",round(f1_score(y_test,ada_pred)*100,2),'%')\n",
        "print(\"Precision Score : \",round(precision_score(y_test,ada_pred)*100,2),'%')\n",
        "print(\"Recall Score : \",round(recall_score(y_test,ada_pred)*100,2),'%')"
      ]
    },
    {
      "cell_type": "markdown",
      "metadata": {
        "id": "xdqFb2-DFgfK"
      },
      "source": [
        "***Naive Bayes***"
      ]
    },
    {
      "cell_type": "code",
      "execution_count": null,
      "metadata": {
        "colab": {
          "base_uri": "https://localhost:8080/"
        },
        "id": "Sg945w_XD9b_",
        "outputId": "1ca50ecb-a816-4eb1-afb9-d7b8dfd7d944"
      },
      "outputs": [],
      "source": [
        "gnb = GaussianNB()\n",
        "gnb.fit(x_train, y_train)\n",
        "y_pred = gnb.predict(x_test)\n",
        "print(\"Accuracy Score : \", round(accuracy_score(y_test,y_pred)*100,2),'%')"
      ]
    },
    {
      "cell_type": "code",
      "execution_count": null,
      "metadata": {
        "colab": {
          "base_uri": "https://localhost:8080/"
        },
        "id": "HOt29wwD12S_",
        "outputId": "33491113-2ddd-4327-e962-40abafd7b8f6"
      },
      "outputs": [],
      "source": [
        "print(\"F-1 Score : \",round(f1_score(y_test,y_pred)*100,2),'%')\n",
        "print(\"Precision Score : \",round(precision_score(y_test,y_pred)*100,2),'%')\n",
        "print(\"Recall Score : \",round(recall_score(y_test,y_pred)*100,2),'%')"
      ]
    },
    {
      "cell_type": "markdown",
      "metadata": {
        "id": "2XIC8Tv4HnHO"
      },
      "source": [
        "***KNN Classifer***"
      ]
    },
    {
      "cell_type": "code",
      "execution_count": null,
      "metadata": {
        "colab": {
          "base_uri": "https://localhost:8080/"
        },
        "id": "MXRaMdKnFv7f",
        "outputId": "00ce1ffe-78c4-4f05-b6fa-431586f7dc60"
      },
      "outputs": [],
      "source": [
        "knn = KNeighborsClassifier()\n",
        "knn.fit(x_train, y_train)\n",
        "y_pred = knn.predict(x_test)\n",
        "print(\"Accuracy Score : \", round(accuracy_score(y_test,y_pred)*100,2),'%')"
      ]
    },
    {
      "cell_type": "code",
      "execution_count": null,
      "metadata": {
        "colab": {
          "base_uri": "https://localhost:8080/"
        },
        "id": "ceNiUHUB2g17",
        "outputId": "fcfe2863-190c-4ce8-8c16-98806dec875e"
      },
      "outputs": [],
      "source": [
        "print(\"F-1 Score : \",round(f1_score(y_test,y_pred)*100,2),'%')\n",
        "print(\"Precision Score : \",round(precision_score(y_test,y_pred)*100,2),'%')\n",
        "print(\"Recall Score : \",round(recall_score(y_test,y_pred)*100,2),'%')"
      ]
    },
    {
      "cell_type": "markdown",
      "metadata": {
        "id": "A-5m2WoPuyoF"
      },
      "source": [
        "***Voting Classifier***"
      ]
    },
    {
      "cell_type": "code",
      "execution_count": null,
      "metadata": {
        "id": "ionVFfTqF_hV"
      },
      "outputs": [],
      "source": [
        "model_1 = LogisticRegression()\n",
        "\n",
        "model_1.fit(x_train, y_train)\n",
        "\n",
        "ypred = model_1.predict(x_test)\n",
        "\n",
        "\n",
        "model_2 = GaussianNB()\n",
        "\n",
        "model_2.fit(x_train, y_train)\n",
        "\n",
        "ypred = model_2.predict(x_test)\n",
        "\n",
        "\n",
        "model_3 = RandomForestClassifier()\n",
        "\n",
        "model_3.fit(x_train, y_train)\n",
        "\n",
        "ypred = model_3.predict(x_test)\n",
        "\n",
        "\n",
        "eclf = VotingClassifier(\n",
        "\n",
        " estimators=[('lr', model_1), ('rf', model_2), ('gnb', model_3)],\n",
        "\n",
        " voting='hard'\n",
        "\n",
        ")\n",
        "\n"
      ]
    },
    {
      "cell_type": "code",
      "execution_count": null,
      "metadata": {
        "id": "uc7flOYfuWtb"
      },
      "outputs": [],
      "source": [
        "for clf, label in zip([model_1, model_2, model_3, eclf], ['Logistic Regression', 'Naive Bayes', 'Random Forest', 'Ensemble']):\n",
        "\n",
        " scores = cross_val_score(clf, x, y, scoring='accuracy', cv=5)\n",
        "\n",
        " print(\"Accuracy: %0.2f (+/- %0.2f) [%s]\" % (scores.mean(), scores.std(), label))"
      ]
    },
    {
      "cell_type": "markdown",
      "metadata": {
        "id": "QFK1Rde2zvGn"
      },
      "source": [
        "| Model | Testing Accuracy | F-1 Score|Precision Score|Recall Score|\n",
        "|----------|---------|-------------------------|-|-|\n",
        "| Logistic Regression\t| 57.1% | 57.3% |57.55%|57.1%|\n",
        "|DECISION TREE CLASSIFIER \t| 68.23%\t| 67.61% | 68.67% |  68.58% |\n",
        "|Random Forest Classifier| 70.07%\t| 70.89% | 68.74%  | 73.18% |\n",
        "|AdaBoost Classifier \t| 62.79%\t| 61.54% | 63.42%|59.76%|\n",
        "| Naive Bayes| 57.99%\t| 58.97% | 57.42%|60.41%|\n",
        "|KNN Classifer \t|  67.66%\t| 68.44% | 66.6%|70.38%|\n",
        "\n"
      ]
    },
    {
      "cell_type": "markdown",
      "metadata": {
        "id": "8vGl8V334qU1"
      },
      "source": [
        "*Via performing on various model we get that Random Forest Classifer performs best in our case *"
      ]
    },
    {
      "cell_type": "markdown",
      "metadata": {
        "id": "TiJcxtPz416_"
      },
      "source": [
        "### Visualizing Our Training Model"
      ]
    },
    {
      "cell_type": "code",
      "execution_count": null,
      "metadata": {
        "colab": {
          "base_uri": "https://localhost:8080/",
          "height": 593
        },
        "id": "vQDw0EVi5RwJ",
        "outputId": "9c8478d3-56ca-4417-f1ff-1ff606677540"
      },
      "outputs": [],
      "source": [
        "from sklearn.metrics import confusion_matrix\n",
        "cm=confusion_matrix(y_test,rf_predict)\n",
        "plt.figure(figsize=(7,7))\n",
        "sns.heatmap(data=cm,linewidth=3, annot=True, square=True, cmap='Blues')\n",
        "plt.xlabel(\"Predicted label\")\n",
        "plt.ylabel(\"Actual label\")\n",
        "all_sample_title = 'Accuracy Score : {0}'.format(rf_classifier.score(x_test,y_test))\n",
        "plt.title(all_sample_title, size=15)"
      ]
    },
    {
      "cell_type": "code",
      "execution_count": null,
      "metadata": {},
      "outputs": [],
      "source": [
        "import joblib\n",
        "joblib.dump(rf_classifier,\"Flight.pkl\")  ## Saving our model for future use\n"
      ]
    },
    {
      "attachments": {},
      "cell_type": "markdown",
      "metadata": {},
      "source": [
        "## Building GUI For RandomForest Classifier"
      ]
    },
    {
      "cell_type": "code",
      "execution_count": 1,
      "metadata": {
        "id": "1NqNDkgH6AfV"
      },
      "outputs": [],
      "source": [
        "import gradio as gr\n",
        "\n",
        "import datetime\n",
        "import time\n",
        "import joblib\n",
        "\n",
        "week = {\"Monday\":1,\"Tuesday\":2,\"Wednesday\":3,'Thursday':4,'Friday':5,\"Saturday\":6,'Sunday':7}\n",
        "\n",
        "def prediction(t,len,air,airfrom,airto,day):\n",
        "    x = time.strptime(t,'%H:%M:%S')\n",
        "    t = datetime.timedelta(hours=x.tm_hour,minutes=x.tm_min,seconds=x.tm_sec).total_seconds()/60    \n",
        "    dataf = {\n",
        "        'Time' : t,\n",
        "        'Length' : len,\n",
        "        'Airline' : [airline_dict[air]],\n",
        "        'AirportFrom': [air_from_dict[airfrom]],\n",
        "        'AirportTo'  : [air_to_dict[airto]],\n",
        "        'DayOfWeek': week[day]\n",
        "    }\n",
        "    d_f = pd.DataFrame(dataf)\n",
        "\n",
        "    model = joblib.load('Flight.pkl')\n",
        "    if model.predict(d_f) == 1:\n",
        "        return \"Your Flight will be probably delayed\"\n",
        "    return \"Your Flight will be on time\"\n",
        "\n",
        "\n"
      ]
    },
    {
      "cell_type": "code",
      "execution_count": null,
      "metadata": {},
      "outputs": [],
      "source": [
        "# pip freeze"
      ]
    },
    {
      "cell_type": "code",
      "execution_count": 2,
      "metadata": {},
      "outputs": [
        {
          "name": "stdout",
          "output_type": "stream",
          "text": [
            "Running on local URL:  http://127.0.0.1:7860\n",
            "\n",
            "To create a public link, set `share=True` in `launch()`.\n"
          ]
        },
        {
          "data": {
            "text/html": [
              "<div><iframe src=\"http://127.0.0.1:7860/\" width=\"100%\" height=\"500\" allow=\"autoplay; camera; microphone; clipboard-read; clipboard-write;\" frameborder=\"0\" allowfullscreen></iframe></div>"
            ],
            "text/plain": [
              "<IPython.core.display.HTML object>"
            ]
          },
          "metadata": {},
          "output_type": "display_data"
        },
        {
          "data": {
            "text/plain": []
          },
          "execution_count": 2,
          "metadata": {},
          "output_type": "execute_result"
        },
        {
          "name": "stderr",
          "output_type": "stream",
          "text": [
            "Traceback (most recent call last):\n",
            "  File \"c:\\Users\\anees\\AppData\\Local\\Programs\\Python\\Python310\\lib\\site-packages\\gradio\\routes.py\", line 401, in run_predict\n",
            "    output = await app.get_blocks().process_api(\n",
            "  File \"c:\\Users\\anees\\AppData\\Local\\Programs\\Python\\Python310\\lib\\site-packages\\gradio\\blocks.py\", line 1302, in process_api\n",
            "    result = await self.call_function(\n",
            "  File \"c:\\Users\\anees\\AppData\\Local\\Programs\\Python\\Python310\\lib\\site-packages\\gradio\\blocks.py\", line 1025, in call_function\n",
            "    prediction = await anyio.to_thread.run_sync(\n",
            "  File \"c:\\Users\\anees\\AppData\\Local\\Programs\\Python\\Python310\\lib\\site-packages\\anyio\\to_thread.py\", line 31, in run_sync\n",
            "    return await get_asynclib().run_sync_in_worker_thread(\n",
            "  File \"c:\\Users\\anees\\AppData\\Local\\Programs\\Python\\Python310\\lib\\site-packages\\anyio\\_backends\\_asyncio.py\", line 937, in run_sync_in_worker_thread\n",
            "    return await future\n",
            "  File \"c:\\Users\\anees\\AppData\\Local\\Programs\\Python\\Python310\\lib\\site-packages\\anyio\\_backends\\_asyncio.py\", line 867, in run\n",
            "    result = context.run(func, *args)\n",
            "  File \"C:\\Users\\anees\\AppData\\Local\\Temp\\ipykernel_12844\\2356827017.py\", line 15, in prediction\n",
            "    'Airline' : [airline_dict[air]],\n",
            "NameError: name 'airline_dict' is not defined\n"
          ]
        }
      ],
      "source": [
        "\n",
        "# gr.Base.from_hub(\"dawood/microsoft_windows \").\n",
        "\n",
        "face = gr.Interface(\n",
        "    prediction,\n",
        "    [gr.Textbox(\n",
        "    label= 'Time of the Flight',\n",
        "    info = 'Should be in HH:MM:SS in 24hrs format',\n",
        "    lines = 1,\n",
        "    value='17:15:00',\n",
        "    ),\n",
        "    gr.Number(value=100,label=\"Length of Flight\"),\n",
        "    gr.Textbox(\n",
        "    label=\"Code of Airline\",\n",
        "    lines=1,\n",
        "    value=\"OO\",\n",
        "    ),\n",
        "    gr.Textbox(\n",
        "    label=\" Departure Airport\",\n",
        "    info='Airport Code',\n",
        "    lines=1,\n",
        "    value='MSP',\n",
        "    ),\n",
        "    gr.Textbox(\n",
        "    label='Arrival Airport',\n",
        "    info='Airport Code',\n",
        "    lines=1,\n",
        "    value='MOT',\n",
        "    ),\n",
        "    gr.Dropdown(['Monday','Tuesday','Wednesday','Thursday','Friday','Saturday','Sunday'],value=\"Monday\",label=\"Day\")\n",
        "\n",
        "\n",
        "\n",
        "\n",
        "    ],title=\"Flight Delay Prediction\", theme = gr.themes.Base.from_hub(\"freddyaboulton/test-blue\") ,outputs=\"text\"\n",
        "    \n",
        ")\n",
        "face.launch(inbrowser=True)"
      ]
    },
    {
      "cell_type": "code",
      "execution_count": null,
      "metadata": {},
      "outputs": [],
      "source": []
    }
  ],
  "metadata": {
    "colab": {
      "provenance": []
    },
    "kernelspec": {
      "display_name": "Python 3",
      "language": "python",
      "name": "python3"
    },
    "language_info": {
      "codemirror_mode": {
        "name": "ipython",
        "version": 3
      },
      "file_extension": ".py",
      "mimetype": "text/x-python",
      "name": "python",
      "nbconvert_exporter": "python",
      "pygments_lexer": "ipython3",
      "version": "3.10.2"
    },
    "vscode": {
      "interpreter": {
        "hash": "242f47593f91912c926fa605a26e2195d14653cdcdde1d4f1dca8d71fa2d0f04"
      }
    }
  },
  "nbformat": 4,
  "nbformat_minor": 0
}
